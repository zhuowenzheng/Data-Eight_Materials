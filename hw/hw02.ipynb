{
 "cells": [
  {
   "cell_type": "code",
   "execution_count": 1,
   "metadata": {
    "deletable": false,
    "editable": false
   },
   "outputs": [],
   "source": [
    "# Initialize Otter\n",
    "import otter\n",
    "grader = otter.Notebook(\"hw02.ipynb\")"
   ]
  },
  {
   "cell_type": "markdown",
   "metadata": {},
   "source": [
    "# Homework 2: Arrays and Tables\n",
    "\n",
    "Please complete this notebook by filling in the cells provided. Before you begin, execute the following cell to load the provided tests."
   ]
  },
  {
   "cell_type": "code",
   "execution_count": 2,
   "metadata": {},
   "outputs": [],
   "source": [
    "# Don't change this cell; just run it. \n",
    "# When you log-in please hit return (not shift + return) after typing in your email\n",
    "import numpy as np\n",
    "from datascience import *\n",
    "import warnings\n",
    "warnings.simplefilter('ignore', FutureWarning)"
   ]
  },
  {
   "cell_type": "markdown",
   "metadata": {},
   "source": [
    "**Helpful Resource:**\n",
    "- [Python Reference](http://data8.org/sp21/python-reference.html): Cheat sheet of helpful array & table methods used in Data 8!\n",
    "\n",
    "**Recommended Reading:**\n",
    "- [What is Data Science](http://www.inferentialthinking.com/chapters/01/what-is-data-science.html)\n",
    "- [Causality and Experiments](http://www.inferentialthinking.com/chapters/02/causality-and-experiments.html) \n",
    "- [Programming in Python](http://www.inferentialthinking.com/chapters/03/programming-in-python.html)\n",
    "\n",
    "For all problems that you must write explanations and sentences for, you **must** provide your answer in the designated space. Moreover, throughout this homework and all future ones, please be sure to not re-assign variables throughout the notebook! For example, if you use `max_temperature` in your answer to one question, do not reassign it later on. Otherwise, you will fail tests that you thought you were passing previously!\n",
    "\n",
    "**Deadline:**\n",
    "\n",
    "This assignment is due Tuesday, June 29 at 11:59 P.M PST. Late work will not be accepted as per the [policies](http://data8.org/su21/policies.html) page.\n",
    "\n",
    "### **Note: This homework has hidden tests on it. That means even though tests may say 100% passed, doesn't mean your final grade will be 100%. We will be running more tests for correctness once everyone turns in the homework.**\n",
    "\n",
    "Directly sharing answers is not okay, but discussing problems with the course staff or with other students is encouraged. Refer to the policies page to learn more about how to learn cooperatively.\n",
    "\n",
    "You should start early so that you have time to get help if you're stuck. Office hours are held Monday-Friday. The schedule appears on the [course website](http://data8.org/su21/office-hours.html).\n"
   ]
  },
  {
   "cell_type": "markdown",
   "metadata": {},
   "source": [
    "## Creating Arrays"
   ]
  },
  {
   "cell_type": "code",
   "execution_count": 3,
   "metadata": {},
   "outputs": [],
   "source": [
    "# Run this cell to set up the notebook, but please don't change it.\n",
    "\n",
    "import numpy as np\n",
    "from datascience import *"
   ]
  },
  {
   "cell_type": "markdown",
   "metadata": {
    "deletable": false,
    "editable": false
   },
   "source": [
    "**Question 1.** Make an array called `weird_numbers` containing the following numbers (in the given order) **(2 Points)**:\n",
    "\n",
    "1. -2\n",
    "2. the sine of 12\n",
    "3. 3\n",
    "4. 5 to the power of the cosine of 12\n",
    "\n",
    "*Hint:* `sin` and `cos` are functions in the `math` module. Importing modules is covered in 2.1 of Lab 2!\n",
    "\n",
    "*Note:* Python lists are different/behave differently than numpy arrays. In Data 8, we use numpy arrays, so please make an **array**, not a python list.\n",
    "\n",
    "<!--\n",
    "BEGIN QUESTION\n",
    "name: q1_1\n",
    "points:\n",
    " - 0\n",
    " - 2\n",
    "-->"
   ]
  },
  {
   "cell_type": "code",
   "execution_count": 5,
   "metadata": {},
   "outputs": [
    {
     "data": {
      "text/plain": [
       "array([-2.        , -0.53657292,  3.        ,  3.88891638])"
      ]
     },
     "execution_count": 5,
     "metadata": {},
     "output_type": "execute_result"
    }
   ],
   "source": [
    "# Our solution involved one extra line of code before creating\n",
    "# weird_numbers.\n",
    "from math import sin,cos\n",
    "weird_numbers = make_array(-2,sin(12),3,5**cos(12))\n",
    "weird_numbers"
   ]
  },
  {
   "cell_type": "code",
   "execution_count": 6,
   "metadata": {
    "deletable": false,
    "editable": false
   },
   "outputs": [
    {
     "data": {
      "text/html": [
       "<p><strong><pre style='display: inline;'>q1_1</pre></strong> passed!</p>"
      ],
      "text/plain": [
       "q1_1 results: All test cases passed!"
      ]
     },
     "execution_count": 6,
     "metadata": {},
     "output_type": "execute_result"
    }
   ],
   "source": [
    "grader.check(\"q1_1\")"
   ]
  },
  {
   "cell_type": "markdown",
   "metadata": {
    "deletable": false,
    "editable": false
   },
   "source": [
    "**Question 2.** Make an array called `book_title_words` containing the following three strings: \"Eats\", \"Shoots\", and \"and Leaves\". **(2 Points)**\n",
    "\n",
    "<!--\n",
    "BEGIN QUESTION\n",
    "name: q1_2\n",
    "points:\n",
    " - 0\n",
    " - 0\n",
    " - 0\n",
    " - 0\n",
    " - 2\n",
    "-->"
   ]
  },
  {
   "cell_type": "code",
   "execution_count": 7,
   "metadata": {},
   "outputs": [
    {
     "data": {
      "text/plain": [
       "array(['Eats', 'Shoots', 'and Leaves'], dtype='<U10')"
      ]
     },
     "execution_count": 7,
     "metadata": {},
     "output_type": "execute_result"
    }
   ],
   "source": [
    "book_title_words = make_array( \"Eats\", \"Shoots\", \"and Leaves\")\n",
    "book_title_words"
   ]
  },
  {
   "cell_type": "code",
   "execution_count": 8,
   "metadata": {
    "deletable": false,
    "editable": false
   },
   "outputs": [
    {
     "data": {
      "text/html": [
       "<p><strong><pre style='display: inline;'>q1_2</pre></strong> passed!</p>"
      ],
      "text/plain": [
       "q1_2 results: All test cases passed!"
      ]
     },
     "execution_count": 8,
     "metadata": {},
     "output_type": "execute_result"
    }
   ],
   "source": [
    "grader.check(\"q1_2\")"
   ]
  },
  {
   "cell_type": "markdown",
   "metadata": {
    "deletable": false,
    "editable": false
   },
   "source": [
    "Strings have a method called `join`.  `join` takes one argument, an array of strings.  It returns a single string.  Specifically, the value of `a_string.join(an_array)` is a single string that's the [concatenation](https://en.wikipedia.org/wiki/Concatenation) (\"putting together\") of all the strings in `an_array`, **except** `a_string` is inserted in between each string.\n",
    "\n",
    "**Question 3.** Use the array `book_title_words` and the method `join` to make two strings **(5 Points)**:\n",
    "\n",
    "1. \"Eats, Shoots, and Leaves\" (call this one `with_commas`)\n",
    "2. \"Eats Shoots and Leaves\" (call this one `without_commas`)\n",
    "\n",
    "*Hint:* If you're not sure what `join` does, first try just calling, for example, `\"foo\".join(book_title_words)` .\n",
    "\n",
    "<!--\n",
    "BEGIN QUESTION\n",
    "name: q1_3\n",
    "points:\n",
    " - 2.5\n",
    " - 2.5\n",
    "-->"
   ]
  },
  {
   "cell_type": "code",
   "execution_count": 13,
   "metadata": {},
   "outputs": [
    {
     "name": "stdout",
     "output_type": "stream",
     "text": [
      "with_commas: Eats, Shoots, and Leaves\n",
      "without_commas: Eats Shoots and Leaves\n"
     ]
    }
   ],
   "source": [
    "with_commas =\", \".join(book_title_words)\n",
    "without_commas = \" \".join(book_title_words)\n",
    "\n",
    "# These lines are provided just to print out your answers.\n",
    "print('with_commas:', with_commas)\n",
    "print('without_commas:', without_commas)"
   ]
  },
  {
   "cell_type": "code",
   "execution_count": 14,
   "metadata": {
    "deletable": false,
    "editable": false
   },
   "outputs": [
    {
     "data": {
      "text/html": [
       "<p><strong><pre style='display: inline;'>q1_3</pre></strong> passed!</p>"
      ],
      "text/plain": [
       "q1_3 results: All test cases passed!"
      ]
     },
     "execution_count": 14,
     "metadata": {},
     "output_type": "execute_result"
    }
   ],
   "source": [
    "grader.check(\"q1_3\")"
   ]
  },
  {
   "cell_type": "markdown",
   "metadata": {},
   "source": [
    "## Indexing Arrays"
   ]
  },
  {
   "cell_type": "code",
   "execution_count": 15,
   "metadata": {},
   "outputs": [],
   "source": [
    "# Run this cell to set up the notebook, but please don't change it.\n",
    "\n",
    "import numpy as np\n",
    "from datascience import *"
   ]
  },
  {
   "cell_type": "markdown",
   "metadata": {},
   "source": [
    "These exercises give you practice accessing individual elements of arrays.  In Python (and in many programming languages), elements are accessed by *index*, so the first element is the element at index 0. Indices must be **integers**.\n",
    "\n",
    "***Note:* If you have previous coding experience, you may be familiar with bracket notation. DO NOT use bracket notation when indexing (i.e. `arr[0]`), as this can yield different data type outputs than what we will be expecting. This can cause you to fail an autograder test.**\n",
    "\n",
    "Be sure to refer to the [Python Reference](http://data8.org/su21/python-reference.html) on the website if you feel stuck!"
   ]
  },
  {
   "cell_type": "markdown",
   "metadata": {
    "deletable": false,
    "editable": false
   },
   "source": [
    "**Question 1.** The cell below creates an array of some numbers.  Set `third_element` to the third element of `some_numbers`. **(2 Points)**\n",
    "\n",
    "<!--\n",
    "BEGIN QUESTION\n",
    "name: q2_1\n",
    "points:\n",
    " - 0\n",
    " - 2\n",
    "-->"
   ]
  },
  {
   "cell_type": "code",
   "execution_count": 16,
   "metadata": {},
   "outputs": [
    {
     "data": {
      "text/plain": [
       "-6"
      ]
     },
     "execution_count": 16,
     "metadata": {},
     "output_type": "execute_result"
    }
   ],
   "source": [
    "some_numbers = make_array(-1, -3, -6, -10, -15)\n",
    "\n",
    "third_element = some_numbers.item(2)\n",
    "third_element"
   ]
  },
  {
   "cell_type": "code",
   "execution_count": 17,
   "metadata": {
    "deletable": false,
    "editable": false
   },
   "outputs": [
    {
     "data": {
      "text/html": [
       "<p><strong><pre style='display: inline;'>q2_1</pre></strong> passed!</p>"
      ],
      "text/plain": [
       "q2_1 results: All test cases passed!"
      ]
     },
     "execution_count": 17,
     "metadata": {},
     "output_type": "execute_result"
    }
   ],
   "source": [
    "grader.check(\"q2_1\")"
   ]
  },
  {
   "cell_type": "markdown",
   "metadata": {
    "deletable": false,
    "editable": false
   },
   "source": [
    "**Question 2.** The next cell creates a table that displays some information about the elements of `some_numbers` and their order.  Run the cell to see the partially-completed table, then fill in the missing information (the cells that say \"Ellipsis\") by assigning `blank_a`, `blank_b`, `blank_c`, and `blank_d` to the correct elements in the table. **(6 Points)**\n",
    "\n",
    "Hint: Replace the … with strings or numbers. As a reminder, indices should be **integers**.\n",
    "\n",
    "<!--\n",
    "BEGIN QUESTION\n",
    "name: q2_2\n",
    "points:\n",
    " - 1.5\n",
    " - 1.5\n",
    " - 1.5\n",
    " - 1.5\n",
    "-->"
   ]
  },
  {
   "cell_type": "code",
   "execution_count": 19,
   "metadata": {
    "for_assignment_type": "student"
   },
   "outputs": [
    {
     "data": {
      "text/html": [
       "<table border=\"1\" class=\"dataframe\">\n",
       "    <thead>\n",
       "        <tr>\n",
       "            <th>English name for position</th> <th>Index</th> <th>Element</th>\n",
       "        </tr>\n",
       "    </thead>\n",
       "    <tbody>\n",
       "        <tr>\n",
       "            <td>first                    </td> <td>0    </td> <td>-1     </td>\n",
       "        </tr>\n",
       "        <tr>\n",
       "            <td>second                   </td> <td>1    </td> <td>-3     </td>\n",
       "        </tr>\n",
       "        <tr>\n",
       "            <td>third                    </td> <td>2    </td> <td>-6     </td>\n",
       "        </tr>\n",
       "        <tr>\n",
       "            <td>fourth                   </td> <td>3    </td> <td>-10    </td>\n",
       "        </tr>\n",
       "        <tr>\n",
       "            <td>fifth                    </td> <td>4    </td> <td>-15    </td>\n",
       "        </tr>\n",
       "    </tbody>\n",
       "</table>"
      ],
      "text/plain": [
       "English name for position | Index | Element\n",
       "first                     | 0     | -1\n",
       "second                    | 1     | -3\n",
       "third                     | 2     | -6\n",
       "fourth                    | 3     | -10\n",
       "fifth                     | 4     | -15"
      ]
     },
     "execution_count": 19,
     "metadata": {},
     "output_type": "execute_result"
    }
   ],
   "source": [
    "blank_a = \"third\"\n",
    "blank_b = \"fourth\"\n",
    "blank_c = 0\n",
    "blank_d = 3\n",
    "elements_of_some_numbers = Table().with_columns(\n",
    "    \"English name for position\", make_array(\"first\", \"second\", blank_a, blank_b, \"fifth\"),\n",
    "    \"Index\",                     make_array(blank_c, 1, 2, blank_d, 4),\n",
    "    \"Element\",                   some_numbers)\n",
    "elements_of_some_numbers"
   ]
  },
  {
   "cell_type": "code",
   "execution_count": 20,
   "metadata": {
    "deletable": false,
    "editable": false
   },
   "outputs": [
    {
     "data": {
      "text/html": [
       "<p><strong><pre style='display: inline;'>q2_2</pre></strong> passed!</p>"
      ],
      "text/plain": [
       "q2_2 results: All test cases passed!"
      ]
     },
     "execution_count": 20,
     "metadata": {},
     "output_type": "execute_result"
    }
   ],
   "source": [
    "grader.check(\"q2_2\")"
   ]
  },
  {
   "cell_type": "markdown",
   "metadata": {
    "deletable": false,
    "editable": false
   },
   "source": [
    "**Question 3.** You'll sometimes want to find the **last** element of an array.  Suppose an array has 142 elements.  What is the index of its last element? **(2 Points)**\n",
    "\n",
    "<!--\n",
    "BEGIN QUESTION\n",
    "name: q2_3\n",
    "points:\n",
    " - 2\n",
    "-->"
   ]
  },
  {
   "cell_type": "code",
   "execution_count": 21,
   "metadata": {},
   "outputs": [],
   "source": [
    "index_of_last_element = 141"
   ]
  },
  {
   "cell_type": "code",
   "execution_count": 22,
   "metadata": {
    "deletable": false,
    "editable": false
   },
   "outputs": [
    {
     "data": {
      "text/html": [
       "<p><strong><pre style='display: inline;'>q2_3</pre></strong> passed!</p>"
      ],
      "text/plain": [
       "q2_3 results: All test cases passed!"
      ]
     },
     "execution_count": 22,
     "metadata": {},
     "output_type": "execute_result"
    }
   ],
   "source": [
    "grader.check(\"q2_3\")"
   ]
  },
  {
   "cell_type": "markdown",
   "metadata": {
    "deletable": false,
    "editable": false
   },
   "source": [
    "More often, you don't know the number of elements in an array, its *length*.  (For example, it might be a large dataset you found on the Internet.)  The function `len` takes a single argument, an array, and returns the `len`gth of that array (an integer).\n",
    "\n",
    "**Question 4.** The cell below loads an array called `president_birth_years`.  Calling `.column(...)` on a table returns an array of the column specified, in this case the `Birth Year` column of the `president_births` table. The last element in that array is the most recent birth year of any deceased president. Assign that year to `most_recent_birth_year`. **(5 Points)**\n",
    "\n",
    "<!--\n",
    "BEGIN QUESTION\n",
    "name: q2_4\n",
    "points:\n",
    " - 5\n",
    "-->"
   ]
  },
  {
   "cell_type": "code",
   "execution_count": 25,
   "metadata": {},
   "outputs": [
    {
     "data": {
      "text/plain": [
       "1917"
      ]
     },
     "execution_count": 25,
     "metadata": {},
     "output_type": "execute_result"
    }
   ],
   "source": [
    "president_birth_years = Table.read_table(\"president_births.csv\").column('Birth Year')\n",
    "\n",
    "most_recent_birth_year = president_birth_years.item(len(president_birth_years)-1)\n",
    "most_recent_birth_year"
   ]
  },
  {
   "cell_type": "code",
   "execution_count": 26,
   "metadata": {
    "deletable": false,
    "editable": false
   },
   "outputs": [
    {
     "data": {
      "text/html": [
       "<p><strong><pre style='display: inline;'>q2_4</pre></strong> passed!</p>"
      ],
      "text/plain": [
       "q2_4 results: All test cases passed!"
      ]
     },
     "execution_count": 26,
     "metadata": {},
     "output_type": "execute_result"
    }
   ],
   "source": [
    "grader.check(\"q2_4\")"
   ]
  },
  {
   "cell_type": "markdown",
   "metadata": {
    "deletable": false,
    "editable": false
   },
   "source": [
    "**Question 5.** Finally, assign `sum_of_birth_years` to the sum of the first, sixteenth, and last birth year in `president_birth_years`. **(6 Points)**\n",
    "\n",
    "<!--\n",
    "BEGIN QUESTION\n",
    "name: q2_5\n",
    "points:\n",
    " - 0\n",
    " - 6\n",
    "-->"
   ]
  },
  {
   "cell_type": "code",
   "execution_count": 28,
   "metadata": {},
   "outputs": [
    {
     "data": {
      "text/plain": [
       "5457"
      ]
     },
     "execution_count": 28,
     "metadata": {},
     "output_type": "execute_result"
    }
   ],
   "source": [
    "sum_of_birth_years = president_birth_years.item(0)+ president_birth_years.item(15) + most_recent_birth_year\n",
    "sum_of_birth_years"
   ]
  },
  {
   "cell_type": "code",
   "execution_count": 29,
   "metadata": {
    "deletable": false,
    "editable": false
   },
   "outputs": [
    {
     "data": {
      "text/html": [
       "<p><strong><pre style='display: inline;'>q2_5</pre></strong> passed!</p>"
      ],
      "text/plain": [
       "q2_5 results: All test cases passed!"
      ]
     },
     "execution_count": 29,
     "metadata": {},
     "output_type": "execute_result"
    }
   ],
   "source": [
    "grader.check(\"q2_5\")"
   ]
  },
  {
   "cell_type": "markdown",
   "metadata": {},
   "source": [
    "## Basic Array Arithmetic"
   ]
  },
  {
   "cell_type": "code",
   "execution_count": 30,
   "metadata": {},
   "outputs": [],
   "source": [
    "# Run this cell to set up the notebook, but please don't change it.\n",
    "\n",
    "import numpy as np\n",
    "from datascience import *"
   ]
  },
  {
   "cell_type": "markdown",
   "metadata": {
    "deletable": false,
    "editable": false
   },
   "source": [
    "**Question 1.** Multiply the numbers 42, -4224, 424224242, and 250 by 157. Assign each variable below such that `first_product` is assigned to the result of $42 * 157$, `second_product` is assigned to the result of $-4224 * 157$, and so on. **(2 Points)**\n",
    "\n",
    "For this question, **don't** use arrays.\n",
    "\n",
    "<!--\n",
    "BEGIN QUESTION\n",
    "name: q3_1\n",
    "points:\n",
    " - 0\n",
    " - 2\n",
    "-->"
   ]
  },
  {
   "cell_type": "code",
   "execution_count": 31,
   "metadata": {},
   "outputs": [
    {
     "name": "stdout",
     "output_type": "stream",
     "text": [
      "6594 -663168 66603205994 39250\n"
     ]
    }
   ],
   "source": [
    "first_product = 42 * 157\n",
    "second_product = -4224 * 157\n",
    "third_product = 424224242 * 157\n",
    "fourth_product = 250 * 157\n",
    "print(first_product, second_product, third_product, fourth_product)"
   ]
  },
  {
   "cell_type": "code",
   "execution_count": 32,
   "metadata": {
    "deletable": false,
    "editable": false
   },
   "outputs": [
    {
     "data": {
      "text/html": [
       "<p><strong><pre style='display: inline;'>q3_1</pre></strong> passed!</p>"
      ],
      "text/plain": [
       "q3_1 results: All test cases passed!"
      ]
     },
     "execution_count": 32,
     "metadata": {},
     "output_type": "execute_result"
    }
   ],
   "source": [
    "grader.check(\"q3_1\")"
   ]
  },
  {
   "cell_type": "markdown",
   "metadata": {
    "deletable": false,
    "editable": false
   },
   "source": [
    "**Question 2.** Now, do the same calculation, but using an array called `numbers` and only a single multiplication (`*`) operator.  Store the 4 results in an array named `products`. **(2 Points)**\n",
    "\n",
    "<!--\n",
    "BEGIN QUESTION\n",
    "name: q3_2\n",
    "points:\n",
    " - 0\n",
    " - 2\n",
    "-->"
   ]
  },
  {
   "cell_type": "code",
   "execution_count": 34,
   "metadata": {},
   "outputs": [
    {
     "data": {
      "text/plain": [
       "array([       6594,     -663168, 66603205994,       39250])"
      ]
     },
     "execution_count": 34,
     "metadata": {},
     "output_type": "execute_result"
    }
   ],
   "source": [
    "numbers = make_array(42,-4224,424224242,250)\n",
    "products = numbers * 157\n",
    "products"
   ]
  },
  {
   "cell_type": "code",
   "execution_count": 35,
   "metadata": {
    "deletable": false,
    "editable": false
   },
   "outputs": [
    {
     "data": {
      "text/html": [
       "<p><strong><pre style='display: inline;'>q3_2</pre></strong> passed!</p>"
      ],
      "text/plain": [
       "q3_2 results: All test cases passed!"
      ]
     },
     "execution_count": 35,
     "metadata": {},
     "output_type": "execute_result"
    }
   ],
   "source": [
    "grader.check(\"q3_2\")"
   ]
  },
  {
   "cell_type": "markdown",
   "metadata": {
    "deletable": false,
    "editable": false
   },
   "source": [
    "**Question 3.** Oops, we made a typo!  Instead of 157, we wanted to multiply each number by 1577.  Compute the correct products in the cell below using array arithmetic.  Notice that your job is really easy if you previously defined an array containing the 4 numbers. **(2 Points)**\n",
    "\n",
    "<!--\n",
    "BEGIN QUESTION\n",
    "name: q3_3\n",
    "points:\n",
    " - 0\n",
    " - 2\n",
    "-->"
   ]
  },
  {
   "cell_type": "code",
   "execution_count": 36,
   "metadata": {},
   "outputs": [
    {
     "data": {
      "text/plain": [
       "array([       66234,     -6661248, 669001629634,       394250])"
      ]
     },
     "execution_count": 36,
     "metadata": {},
     "output_type": "execute_result"
    }
   ],
   "source": [
    "correct_products = numbers * 1577\n",
    "correct_products"
   ]
  },
  {
   "cell_type": "code",
   "execution_count": 37,
   "metadata": {
    "deletable": false,
    "editable": false
   },
   "outputs": [
    {
     "data": {
      "text/html": [
       "<p><strong><pre style='display: inline;'>q3_3</pre></strong> passed!</p>"
      ],
      "text/plain": [
       "q3_3 results: All test cases passed!"
      ]
     },
     "execution_count": 37,
     "metadata": {},
     "output_type": "execute_result"
    }
   ],
   "source": [
    "grader.check(\"q3_3\")"
   ]
  },
  {
   "cell_type": "markdown",
   "metadata": {
    "deletable": false,
    "editable": false
   },
   "source": [
    "**Question 4.** We've loaded an array of temperatures in the next cell.  Each number is the highest temperature observed on a day at a climate observation station, mostly from the US.  Since they're from the US government agency [NOAA](noaa.gov), all the temperatures are in Fahrenheit.  Convert them all to Celsius by first subtracting 32 from them, then multiplying the results by $\\frac{5}{9}$. Make sure to **ROUND** the final result after converting to Celsius to the nearest integer using the `np.round` function. **(5 Points)**\n",
    "\n",
    "<!--\n",
    "BEGIN QUESTION\n",
    "name: q3_4\n",
    "points:\n",
    " - 1\n",
    " - 1\n",
    " - 1\n",
    " - 2\n",
    "-->"
   ]
  },
  {
   "cell_type": "code",
   "execution_count": 38,
   "metadata": {},
   "outputs": [
    {
     "data": {
      "text/plain": [
       "array([-4., 31., 32., ..., 17., 23., 16.])"
      ]
     },
     "execution_count": 38,
     "metadata": {},
     "output_type": "execute_result"
    }
   ],
   "source": [
    "max_temperatures = Table.read_table(\"temperatures.csv\").column(\"Daily Max Temperature\")\n",
    "\n",
    "celsius_max_temperatures = np.round((max_temperatures -32)*5/9)\n",
    "celsius_max_temperatures"
   ]
  },
  {
   "cell_type": "code",
   "execution_count": 39,
   "metadata": {
    "deletable": false,
    "editable": false
   },
   "outputs": [
    {
     "data": {
      "text/html": [
       "<p><strong><pre style='display: inline;'>q3_4</pre></strong> passed!</p>"
      ],
      "text/plain": [
       "q3_4 results: All test cases passed!"
      ]
     },
     "execution_count": 39,
     "metadata": {},
     "output_type": "execute_result"
    }
   ],
   "source": [
    "grader.check(\"q3_4\")"
   ]
  },
  {
   "cell_type": "markdown",
   "metadata": {
    "deletable": false,
    "editable": false
   },
   "source": [
    "**Question 5.** The cell below loads all the *lowest* temperatures from each day (in Fahrenheit).  Compute the size of the daily temperature range for each day.  That is, compute the difference between each daily maximum temperature and the corresponding daily minimum temperature.  **Pay attention to the units, give your answer in Celsius!** Make sure **NOT** to round your answer for this question! Note: Remember that in Question 4, `celsius_max_temperatures` was rounded, so you might not want to use that in this question. **(5 Points)**\n",
    "\n",
    "\n",
    "<!--\n",
    "BEGIN QUESTION\n",
    "name: q3_5\n",
    "points:\n",
    " - 0\n",
    " - 5\n",
    " - 0\n",
    "-->"
   ]
  },
  {
   "cell_type": "code",
   "execution_count": 42,
   "metadata": {},
   "outputs": [
    {
     "data": {
      "text/plain": [
       "array([ 6.66666667, 10.        , 12.22222222, ..., 17.22222222,\n",
       "       11.66666667, 11.11111111])"
      ]
     },
     "execution_count": 42,
     "metadata": {},
     "output_type": "execute_result"
    }
   ],
   "source": [
    "min_temperatures = Table.read_table(\"temperatures.csv\").column(\"Daily Min Temperature\")\n",
    "\n",
    "celsius_temperature_ranges = (max_temperatures-32)*5/9-(min_temperatures-32)*5/9\n",
    "celsius_temperature_ranges"
   ]
  },
  {
   "cell_type": "code",
   "execution_count": 43,
   "metadata": {
    "deletable": false,
    "editable": false
   },
   "outputs": [
    {
     "data": {
      "text/html": [
       "<p><strong><pre style='display: inline;'>q3_5</pre></strong> passed!</p>"
      ],
      "text/plain": [
       "q3_5 results: All test cases passed!"
      ]
     },
     "execution_count": 43,
     "metadata": {},
     "output_type": "execute_result"
    }
   ],
   "source": [
    "grader.check(\"q3_5\")"
   ]
  },
  {
   "cell_type": "markdown",
   "metadata": {},
   "source": [
    "## World Population"
   ]
  },
  {
   "cell_type": "code",
   "execution_count": 44,
   "metadata": {},
   "outputs": [],
   "source": [
    "# Run this cell to set up the notebook, but please don't change it.\n",
    "\n",
    "import numpy as np\n",
    "from datascience import *"
   ]
  },
  {
   "cell_type": "markdown",
   "metadata": {},
   "source": [
    "Remember that the tests from this point on will **not** necessarily tell you whether or not your answers are correct."
   ]
  },
  {
   "cell_type": "markdown",
   "metadata": {
    "collapsed": true
   },
   "source": [
    "The cell below loads a table of estimates of the world population for different years, starting in 1950. The estimates come from the [US Census Bureau website](https://www.census.gov/en.html)."
   ]
  },
  {
   "cell_type": "code",
   "execution_count": 45,
   "metadata": {},
   "outputs": [
    {
     "data": {
      "text/html": [
       "<table border=\"1\" class=\"dataframe\">\n",
       "    <thead>\n",
       "        <tr>\n",
       "            <th>Year</th> <th>Population</th>\n",
       "        </tr>\n",
       "    </thead>\n",
       "    <tbody>\n",
       "        <tr>\n",
       "            <td>1950</td> <td>2557628654</td>\n",
       "        </tr>\n",
       "        <tr>\n",
       "            <td>1951</td> <td>2594939877</td>\n",
       "        </tr>\n",
       "        <tr>\n",
       "            <td>1952</td> <td>2636772306</td>\n",
       "        </tr>\n",
       "        <tr>\n",
       "            <td>1953</td> <td>2682053389</td>\n",
       "        </tr>\n",
       "    </tbody>\n",
       "</table>\n",
       "<p>... (62 rows omitted)</p>"
      ],
      "text/plain": [
       "<IPython.core.display.HTML object>"
      ]
     },
     "metadata": {},
     "output_type": "display_data"
    }
   ],
   "source": [
    "world = Table.read_table(\"world_population.csv\").select('Year', 'Population')\n",
    "world.show(4)"
   ]
  },
  {
   "cell_type": "markdown",
   "metadata": {},
   "source": [
    "The name `population` is assigned to an array of population estimates."
   ]
  },
  {
   "cell_type": "code",
   "execution_count": 46,
   "metadata": {},
   "outputs": [
    {
     "data": {
      "text/plain": [
       "array([2557628654, 2594939877, 2636772306, 2682053389, 2730228104,\n",
       "       2782098943, 2835299673, 2891349717, 2948137248, 3000716593,\n",
       "       3043001508, 3083966929, 3140093217, 3209827882, 3281201306,\n",
       "       3350425793, 3420677923, 3490333715, 3562313822, 3637159050,\n",
       "       3712697742, 3790326948, 3866568653, 3942096442, 4016608813,\n",
       "       4089083233, 4160185010, 4232084578, 4304105753, 4379013942,\n",
       "       4451362735, 4534410125, 4614566561, 4695736743, 4774569391,\n",
       "       4856462699, 4940571232, 5027200492, 5114557167, 5201440110,\n",
       "       5288955934, 5371585922, 5456136278, 5538268316, 5618682132,\n",
       "       5699202985, 5779440593, 5857972543, 5935213248, 6012074922,\n",
       "       6088571383, 6165219247, 6242016348, 6318590956, 6395699509,\n",
       "       6473044732, 6551263534, 6629913759, 6709049780, 6788214394,\n",
       "       6866332358, 6944055583, 7022349283, 7101027895, 7178722893,\n",
       "       7256490011])"
      ]
     },
     "execution_count": 46,
     "metadata": {},
     "output_type": "execute_result"
    }
   ],
   "source": [
    "population = world.column(1)\n",
    "population"
   ]
  },
  {
   "cell_type": "markdown",
   "metadata": {},
   "source": [
    "In this question, you will apply some built-in Numpy functions to this array. Numpy is a module that is often used in Data Science!"
   ]
  },
  {
   "cell_type": "markdown",
   "metadata": {},
   "source": [
    "<img src=\"array_diff.png\" style=\"width: 600px;\"/>\n",
    "\n",
    "The difference function `np.diff` subtracts each element in an array from the element after it within the array. As a result, the length of the array `np.diff` returns will always be one less than the length of the input array."
   ]
  },
  {
   "cell_type": "markdown",
   "metadata": {},
   "source": [
    "<img src=\"array_cumsum.png\" style=\"width: 700px;\"/>\n",
    "\n",
    "The cumulative sum function `np.cumsum` outputs an array of partial sums. For example, the third element in the output array corresponds to the sum of the first, second, and third elements.\n",
    "\n",
    "**Note:** This homework aims to get you comfortable with array arithmetic using methods like `np.diff` and `np.cumsum`, but they are not heavily used later in the course."
   ]
  },
  {
   "cell_type": "markdown",
   "metadata": {
    "deletable": false,
    "editable": false
   },
   "source": [
    "**Question 1.** Very often in data science, we are interested in understanding how values change with time. Use `np.diff` and `np.max` (or just `max`) to calculate the largest annual change in population between any two consecutive years. **(4 Points)**\n",
    "\n",
    "<!--\n",
    "BEGIN QUESTION\n",
    "name: q4_1\n",
    "points:\n",
    " - 4\n",
    "-->"
   ]
  },
  {
   "cell_type": "code",
   "execution_count": 47,
   "metadata": {},
   "outputs": [
    {
     "data": {
      "text/plain": [
       "87515824"
      ]
     },
     "execution_count": 47,
     "metadata": {},
     "output_type": "execute_result"
    }
   ],
   "source": [
    "largest_population_change = max(np.diff(population))\n",
    "largest_population_change"
   ]
  },
  {
   "cell_type": "code",
   "execution_count": 48,
   "metadata": {
    "deletable": false,
    "editable": false
   },
   "outputs": [
    {
     "data": {
      "text/html": [
       "<p><strong><pre style='display: inline;'>q4_1</pre></strong> passed!</p>"
      ],
      "text/plain": [
       "q4_1 results: All test cases passed!"
      ]
     },
     "execution_count": 48,
     "metadata": {},
     "output_type": "execute_result"
    }
   ],
   "source": [
    "grader.check(\"q4_1\")"
   ]
  },
  {
   "cell_type": "markdown",
   "metadata": {},
   "source": [
    "**Question 2.** What do the values in the resulting array represent (choose one)? **(5 Points)**\n",
    "\n",
    "*Tip: Look at the population array and compute the actual population changes for the first couple years of each option.* "
   ]
  },
  {
   "cell_type": "code",
   "execution_count": 49,
   "metadata": {},
   "outputs": [
    {
     "data": {
      "text/plain": [
       "array([  37311223,   79143652,  124424735,  172599450,  224470289,\n",
       "        277671019,  333721063,  390508594,  443087939,  485372854,\n",
       "        526338275,  582464563,  652199228,  723572652,  792797139,\n",
       "        863049269,  932705061, 1004685168, 1079530396, 1155069088,\n",
       "       1232698294, 1308939999, 1384467788, 1458980159, 1531454579,\n",
       "       1602556356, 1674455924, 1746477099, 1821385288, 1893734081,\n",
       "       1976781471, 2056937907, 2138108089, 2216940737, 2298834045,\n",
       "       2382942578, 2469571838, 2556928513, 2643811456, 2731327280,\n",
       "       2813957268, 2898507624, 2980639662, 3061053478, 3141574331,\n",
       "       3221811939, 3300343889, 3377584594, 3454446268, 3530942729,\n",
       "       3607590593, 3684387694, 3760962302, 3838070855, 3915416078,\n",
       "       3993634880, 4072285105, 4151421126, 4230585740, 4308703704,\n",
       "       4386426929, 4464720629, 4543399241, 4621094239, 4698861357])"
      ]
     },
     "execution_count": 49,
     "metadata": {},
     "output_type": "execute_result"
    }
   ],
   "source": [
    "np.cumsum(np.diff(population))"
   ]
  },
  {
   "cell_type": "markdown",
   "metadata": {
    "deletable": false,
    "editable": false
   },
   "source": [
    "1) The total population change between consecutive years, starting at 1951.\n",
    "\n",
    "2) The total population change between 1950 and each later year, starting at 1951.\n",
    "\n",
    "3) The total population change between 1950 and each later year, starting inclusively at 1950.\n",
    "\n",
    "<!--\n",
    "BEGIN QUESTION\n",
    "name: q4_2\n",
    "points:\n",
    " - 0\n",
    " - 0\n",
    " - 5\n",
    "-->"
   ]
  },
  {
   "cell_type": "code",
   "execution_count": 50,
   "metadata": {},
   "outputs": [],
   "source": [
    "# Assign cumulative_sum_answer to 1, 2, or 3\n",
    "cumulative_sum_answer = 2"
   ]
  },
  {
   "cell_type": "code",
   "execution_count": 51,
   "metadata": {
    "deletable": false,
    "editable": false
   },
   "outputs": [
    {
     "data": {
      "text/html": [
       "<p><strong><pre style='display: inline;'>q4_2</pre></strong> passed!</p>"
      ],
      "text/plain": [
       "q4_2 results: All test cases passed!"
      ]
     },
     "execution_count": 51,
     "metadata": {},
     "output_type": "execute_result"
    }
   ],
   "source": [
    "grader.check(\"q4_2\")"
   ]
  },
  {
   "cell_type": "markdown",
   "metadata": {},
   "source": [
    "## Old Faithful"
   ]
  },
  {
   "cell_type": "code",
   "execution_count": 52,
   "metadata": {},
   "outputs": [],
   "source": [
    "# Run this cell to set up the notebook, but please don't change it.\n",
    "\n",
    "import numpy as np\n",
    "from datascience import *"
   ]
  },
  {
   "cell_type": "markdown",
   "metadata": {},
   "source": [
    "Old Faithful is a geyser in Yellowstone that erupts every 44 to 125 minutes (according to [Wikipedia](https://en.wikipedia.org/wiki/Old_Faithful)). People are [often told that the geyser erupts every hour](http://yellowstone.net/geysers/old-faithful/), but in fact the waiting time between eruptions is more variable. Let's take a look."
   ]
  },
  {
   "cell_type": "markdown",
   "metadata": {
    "deletable": false,
    "editable": false
   },
   "source": [
    "**Question 1.** The first line below assigns `waiting_times` to an array of 272 consecutive waiting times between eruptions, taken from a classic 1938 dataset. Assign the names `shortest`, `longest`, and `average` so that the `print` statement is correct. **(2 Points)**\n",
    "\n",
    "<!--\n",
    "BEGIN QUESTION\n",
    "name: q5_1\n",
    "points:\n",
    " - 0\n",
    " - 0\n",
    " - 1\n",
    " - 1\n",
    "-->"
   ]
  },
  {
   "cell_type": "code",
   "execution_count": 55,
   "metadata": {},
   "outputs": [
    {
     "name": "stdout",
     "output_type": "stream",
     "text": [
      "Old Faithful erupts every 43 to 96 minutes and every 70.8970588235294 minutes on average.\n"
     ]
    }
   ],
   "source": [
    "waiting_times = Table.read_table('old_faithful.csv').column('waiting')\n",
    "\n",
    "shortest = min(waiting_times)\n",
    "longest = max(waiting_times)\n",
    "average = np.average(waiting_times)\n",
    "\n",
    "print(\"Old Faithful erupts every\", shortest, \"to\", longest, \"minutes and every\", average, \"minutes on average.\")"
   ]
  },
  {
   "cell_type": "code",
   "execution_count": 56,
   "metadata": {
    "deletable": false,
    "editable": false
   },
   "outputs": [
    {
     "data": {
      "text/html": [
       "<p><strong><pre style='display: inline;'>q5_1</pre></strong> passed!</p>"
      ],
      "text/plain": [
       "q5_1 results: All test cases passed!"
      ]
     },
     "execution_count": 56,
     "metadata": {},
     "output_type": "execute_result"
    }
   ],
   "source": [
    "grader.check(\"q5_1\")"
   ]
  },
  {
   "cell_type": "markdown",
   "metadata": {
    "deletable": false,
    "editable": false
   },
   "source": [
    "**Question 2.** Assign `biggest_decrease` to the biggest decrease in waiting time between two consecutive eruptions. For example, the third eruption occurred after 74 minutes and the fourth after 62 minutes, so the decrease in waiting time was 74 - 62 = 12 minutes. **(4 Points)**\n",
    "\n",
    "*Hint 1*: You'll need an array arithmetic function [mentioned in the textbook](https://inferentialthinking.com/chapters/05/1/Arrays.html#functions-on-arrays). You have also seen this function earlier in the homework!\n",
    "\n",
    "*Hint 2*: We want to return the absolute value of the biggest decrease.\n",
    "\n",
    "<!--\n",
    "BEGIN QUESTION\n",
    "name: q5_2\n",
    "points:\n",
    " - 0\n",
    " - 0\n",
    " - 4\n",
    "-->"
   ]
  },
  {
   "cell_type": "code",
   "execution_count": 61,
   "metadata": {},
   "outputs": [
    {
     "data": {
      "text/plain": [
       "45"
      ]
     },
     "execution_count": 61,
     "metadata": {},
     "output_type": "execute_result"
    }
   ],
   "source": [
    "biggest_decrease = abs(min(np.diff(waiting_times)))\n",
    "biggest_decrease"
   ]
  },
  {
   "cell_type": "code",
   "execution_count": 62,
   "metadata": {
    "deletable": false,
    "editable": false
   },
   "outputs": [
    {
     "data": {
      "text/html": [
       "<p><strong><pre style='display: inline;'>q5_2</pre></strong> passed!</p>"
      ],
      "text/plain": [
       "q5_2 results: All test cases passed!"
      ]
     },
     "execution_count": 62,
     "metadata": {},
     "output_type": "execute_result"
    }
   ],
   "source": [
    "grader.check(\"q5_2\")"
   ]
  },
  {
   "cell_type": "markdown",
   "metadata": {
    "deletable": false,
    "editable": false
   },
   "source": [
    "**Question 3.** If you expected Old Faithful to erupt every hour, you would expect to wait a total of `60 * k` minutes to see `k` eruptions. Set `difference_from_expected` to an array with 272 elements, where the element at index `i` is the absolute difference between the actual and expected total amount of waiting time to see the first `i+1` eruptions. **(8 Points)**\n",
    "\n",
    "*Hint*: You'll need to compare a cumulative sum to a range. You'll go through `np.arange` more thoroughly in Lab 3, but you can read about it in this [textbook section](https://www.inferentialthinking.com/chapters/05/2/Ranges.html).\n",
    "\n",
    "For example, since the first three waiting times are 79, 54, and 74, the total waiting time for 3 eruptions is 79 + 54 + 74 = 207. The expected waiting time for 3 eruptions is 60 * 3 = 180. Therefore, `difference_from_expected.item(2)` should be $|207 - 180| = 27$.\n",
    "\n",
    "<!--\n",
    "BEGIN QUESTION\n",
    "name: q5_3\n",
    "points:\n",
    " - 1\n",
    " - 7\n",
    "-->"
   ]
  },
  {
   "cell_type": "code",
   "execution_count": 71,
   "metadata": {},
   "outputs": [
    {
     "data": {
      "text/plain": [
       "array([  19,   13,   27,   29,   54,   49,   77,  102,   93,  118,  112,\n",
       "        136,  154,  141,  164,  156,  158,  182,  174,  193,  184,  171,\n",
       "        189,  198,  212,  235,  230,  246,  264,  283,  296,  313,  319,\n",
       "        339,  353,  345,  333,  353,  352,  382,  402,  400,  424,  422,\n",
       "        435,  458,  462,  455,  477,  476,  491,  521,  515,  535,  529,\n",
       "        552,  563,  567,  584,  605,  604,  628,  616,  638,  638,  670,\n",
       "        688,  706,  711,  724,  746,  742,  761,  772,  774,  790,  790,\n",
       "        808,  824,  847,  862,  884,  894,  899,  912,  940,  956,  976,\n",
       "        964,  990,  990, 1020, 1010, 1028, 1031, 1043, 1067, 1082, 1073,\n",
       "       1095, 1097, 1125, 1114, 1137, 1158, 1145, 1169, 1161, 1187, 1208,\n",
       "       1223, 1222, 1251, 1270, 1269, 1290, 1280, 1305, 1304, 1331, 1324,\n",
       "       1333, 1350, 1346, 1374, 1395, 1380, 1402, 1397, 1427, 1412, 1435,\n",
       "       1431, 1460, 1446, 1468, 1459, 1485, 1478, 1497, 1518, 1518, 1540,\n",
       "       1557, 1573, 1572, 1592, 1581, 1617, 1610, 1627, 1644, 1649, 1670,\n",
       "       1681, 1691, 1712, 1745, 1738, 1767, 1752, 1778, 1776, 1794, 1800,\n",
       "       1816, 1819, 1847, 1839, 1872, 1861, 1858, 1875, 1883, 1904, 1925,\n",
       "       1938, 1928, 1953, 1967, 1962, 1979, 2002, 2025, 2016, 2034, 2058,\n",
       "       2044, 2067, 2062, 2083, 2080, 2096, 2120, 2137, 2158, 2185, 2202,\n",
       "       2193, 2211, 2211, 2233, 2264, 2257, 2275, 2261, 2278, 2302, 2291,\n",
       "       2314, 2325, 2345, 2334, 2349, 2353, 2369, 2362, 2396, 2391, 2407,\n",
       "       2397, 2419, 2413, 2428, 2446, 2465, 2483, 2501, 2511, 2530, 2540,\n",
       "       2534, 2560, 2550, 2580, 2574, 2568, 2585, 2604, 2608, 2623, 2610,\n",
       "       2636, 2639, 2664, 2686, 2683, 2705, 2712, 2726, 2720, 2743, 2756,\n",
       "       2769, 2797, 2817, 2828, 2851, 2847, 2866, 2884, 2908, 2906, 2929,\n",
       "       2912, 2912, 2927, 2948, 2934, 2964, 2950, 2964])"
      ]
     },
     "execution_count": 71,
     "metadata": {},
     "output_type": "execute_result"
    }
   ],
   "source": [
    "difference_from_expected = abs(np.cumsum(waiting_times)-np.arange(60,60*273,60))\n",
    "difference_from_expected"
   ]
  },
  {
   "cell_type": "code",
   "execution_count": 72,
   "metadata": {
    "deletable": false,
    "editable": false
   },
   "outputs": [
    {
     "data": {
      "text/html": [
       "<p><strong><pre style='display: inline;'>q5_3</pre></strong> passed!</p>"
      ],
      "text/plain": [
       "q5_3 results: All test cases passed!"
      ]
     },
     "execution_count": 72,
     "metadata": {},
     "output_type": "execute_result"
    }
   ],
   "source": [
    "grader.check(\"q5_3\")"
   ]
  },
  {
   "cell_type": "markdown",
   "metadata": {
    "deletable": false,
    "editable": false
   },
   "source": [
    "**Question 4.** Let’s imagine your guess for the next waiting time was always just the length of the previous waiting time. If you always guessed the previous waiting time, how big would your error in guessing the waiting times be, on average? **(8 Points)**\n",
    "\n",
    "For example, since the first three waiting times are 79, 54, and 74, the average difference between your guess and the actual time for just the second and third eruption would be $\\frac{|79-54|+ |54-74|}{2} = 22.5$.\n",
    "\n",
    "<!--\n",
    "BEGIN QUESTION\n",
    "name: q5_4\n",
    "points:\n",
    " - 0\n",
    " - 8\n",
    "-->"
   ]
  },
  {
   "cell_type": "code",
   "execution_count": 79,
   "metadata": {},
   "outputs": [
    {
     "data": {
      "text/plain": [
       "20.52029520295203"
      ]
     },
     "execution_count": 79,
     "metadata": {},
     "output_type": "execute_result"
    }
   ],
   "source": [
    "average_error = np.average((abs(np.diff(waiting_times))))\n",
    "average_error"
   ]
  },
  {
   "cell_type": "code",
   "execution_count": 80,
   "metadata": {
    "deletable": false,
    "editable": false
   },
   "outputs": [
    {
     "data": {
      "text/html": [
       "<p><strong><pre style='display: inline;'>q5_4</pre></strong> passed!</p>"
      ],
      "text/plain": [
       "q5_4 results: All test cases passed!"
      ]
     },
     "execution_count": 80,
     "metadata": {},
     "output_type": "execute_result"
    }
   ],
   "source": [
    "grader.check(\"q5_4\")"
   ]
  },
  {
   "cell_type": "markdown",
   "metadata": {},
   "source": [
    "## Tables"
   ]
  },
  {
   "cell_type": "code",
   "execution_count": 81,
   "metadata": {},
   "outputs": [],
   "source": [
    "# Run this cell to set up the notebook, but please don't change it.\n",
    "\n",
    "import numpy as np\n",
    "from datascience import *"
   ]
  },
  {
   "cell_type": "markdown",
   "metadata": {
    "deletable": false,
    "editable": false
   },
   "source": [
    "**Question 1.** Suppose you have 4 apples, 3 oranges, and 3 pineapples.  (Perhaps you're using Python to solve a high school Algebra problem.)  Create a table that contains this information.  It should have two columns: `fruit name` and `count`.  Assign the new table to the variable `fruits`. **(2 Points)**\n",
    "\n",
    "**Note:** Use lower-case and singular words for the name of each fruit, like `\"apple\"`.\n",
    "\n",
    "<!--\n",
    "BEGIN QUESTION\n",
    "name: q6_1\n",
    "points:\n",
    " - 2\n",
    "-->"
   ]
  },
  {
   "cell_type": "code",
   "execution_count": 84,
   "metadata": {},
   "outputs": [
    {
     "data": {
      "text/html": [
       "<table border=\"1\" class=\"dataframe\">\n",
       "    <thead>\n",
       "        <tr>\n",
       "            <th>fruit name</th> <th>count</th>\n",
       "        </tr>\n",
       "    </thead>\n",
       "    <tbody>\n",
       "        <tr>\n",
       "            <td>apple     </td> <td>4    </td>\n",
       "        </tr>\n",
       "        <tr>\n",
       "            <td>orange    </td> <td>3    </td>\n",
       "        </tr>\n",
       "        <tr>\n",
       "            <td>pineapple </td> <td>3    </td>\n",
       "        </tr>\n",
       "    </tbody>\n",
       "</table>"
      ],
      "text/plain": [
       "fruit name | count\n",
       "apple      | 4\n",
       "orange     | 3\n",
       "pineapple  | 3"
      ]
     },
     "execution_count": 84,
     "metadata": {},
     "output_type": "execute_result"
    }
   ],
   "source": [
    "# Our solution uses 1 statement split over 3 lines.\n",
    "fruits = Table().with_columns(\n",
    "        \"fruit name\",make_array(\"apple\",\"orange\",\"pineapple\"),\n",
    "        \"count\",make_array(4,3,3))\n",
    "fruits"
   ]
  },
  {
   "cell_type": "code",
   "execution_count": 85,
   "metadata": {
    "deletable": false,
    "editable": false
   },
   "outputs": [
    {
     "data": {
      "text/html": [
       "<p><strong><pre style='display: inline;'>q6_1</pre></strong> passed!</p>"
      ],
      "text/plain": [
       "q6_1 results: All test cases passed!"
      ]
     },
     "execution_count": 85,
     "metadata": {},
     "output_type": "execute_result"
    }
   ],
   "source": [
    "grader.check(\"q6_1\")"
   ]
  },
  {
   "cell_type": "markdown",
   "metadata": {
    "deletable": false,
    "editable": false
   },
   "source": [
    "**Question 2.** The file `inventory.csv` contains information about the inventory at a fruit stand.  Each row represents the contents of one box of fruit. Load it as a table named `inventory` using the `Table.read_table()` function. `Table.read_table(...)` takes one argument (data file name in string format) and returns a table. **(2 Points)**\n",
    "\n",
    "<!--\n",
    "BEGIN QUESTION\n",
    "name: q6_2\n",
    "points:\n",
    " - 2\n",
    "-->"
   ]
  },
  {
   "cell_type": "code",
   "execution_count": 86,
   "metadata": {},
   "outputs": [
    {
     "data": {
      "text/html": [
       "<table border=\"1\" class=\"dataframe\">\n",
       "    <thead>\n",
       "        <tr>\n",
       "            <th>box ID</th> <th>fruit name</th> <th>count</th>\n",
       "        </tr>\n",
       "    </thead>\n",
       "    <tbody>\n",
       "        <tr>\n",
       "            <td>53686 </td> <td>kiwi      </td> <td>45   </td>\n",
       "        </tr>\n",
       "        <tr>\n",
       "            <td>57181 </td> <td>strawberry</td> <td>123  </td>\n",
       "        </tr>\n",
       "        <tr>\n",
       "            <td>25274 </td> <td>apple     </td> <td>20   </td>\n",
       "        </tr>\n",
       "        <tr>\n",
       "            <td>48800 </td> <td>orange    </td> <td>35   </td>\n",
       "        </tr>\n",
       "        <tr>\n",
       "            <td>26187 </td> <td>strawberry</td> <td>255  </td>\n",
       "        </tr>\n",
       "        <tr>\n",
       "            <td>57930 </td> <td>grape     </td> <td>517  </td>\n",
       "        </tr>\n",
       "        <tr>\n",
       "            <td>52357 </td> <td>strawberry</td> <td>102  </td>\n",
       "        </tr>\n",
       "        <tr>\n",
       "            <td>43566 </td> <td>peach     </td> <td>40   </td>\n",
       "        </tr>\n",
       "    </tbody>\n",
       "</table>"
      ],
      "text/plain": [
       "box ID | fruit name | count\n",
       "53686  | kiwi       | 45\n",
       "57181  | strawberry | 123\n",
       "25274  | apple      | 20\n",
       "48800  | orange     | 35\n",
       "26187  | strawberry | 255\n",
       "57930  | grape      | 517\n",
       "52357  | strawberry | 102\n",
       "43566  | peach      | 40"
      ]
     },
     "execution_count": 86,
     "metadata": {},
     "output_type": "execute_result"
    }
   ],
   "source": [
    "inventory = Table.read_table(\"inventory.csv\")\n",
    "inventory"
   ]
  },
  {
   "cell_type": "code",
   "execution_count": 87,
   "metadata": {
    "deletable": false,
    "editable": false
   },
   "outputs": [
    {
     "data": {
      "text/html": [
       "<p><strong><pre style='display: inline;'>q6_2</pre></strong> passed!</p>"
      ],
      "text/plain": [
       "q6_2 results: All test cases passed!"
      ]
     },
     "execution_count": 87,
     "metadata": {},
     "output_type": "execute_result"
    }
   ],
   "source": [
    "grader.check(\"q6_2\")"
   ]
  },
  {
   "cell_type": "markdown",
   "metadata": {
    "deletable": false,
    "editable": false
   },
   "source": [
    "**Question 3.** Does each box at the fruit stand contain a different fruit? Set `all_different` to `True` if each box contains a different fruit or to `False` if multiple boxes contain the same fruit. **(2 Points)**\n",
    "\n",
    "*Hint:* You don't have to write code to calculate the True/False value for `all_different`. Just look at the `inventory` table and assign `all_different` to either `True` or `False` according to what you can see from the table in answering the question.\n",
    "\n",
    "<!--\n",
    "BEGIN QUESTION\n",
    "name: q6_3\n",
    "points:\n",
    " - 0\n",
    " - 2\n",
    "-->"
   ]
  },
  {
   "cell_type": "code",
   "execution_count": 88,
   "metadata": {},
   "outputs": [
    {
     "data": {
      "text/plain": [
       "False"
      ]
     },
     "execution_count": 88,
     "metadata": {},
     "output_type": "execute_result"
    }
   ],
   "source": [
    "all_different = False\n",
    "all_different"
   ]
  },
  {
   "cell_type": "code",
   "execution_count": 89,
   "metadata": {
    "deletable": false,
    "editable": false
   },
   "outputs": [
    {
     "data": {
      "text/html": [
       "<p><strong><pre style='display: inline;'>q6_3</pre></strong> passed!</p>"
      ],
      "text/plain": [
       "q6_3 results: All test cases passed!"
      ]
     },
     "execution_count": 89,
     "metadata": {},
     "output_type": "execute_result"
    }
   ],
   "source": [
    "grader.check(\"q6_3\")"
   ]
  },
  {
   "cell_type": "markdown",
   "metadata": {
    "deletable": false,
    "editable": false
   },
   "source": [
    "**Question 4.** The file `sales.csv` contains the number of fruit sold from each box last Saturday.  It has an extra column called \"price per fruit (\\$)\" that's the price *per item of fruit* for fruit in that box.  The rows are in the same order as the `inventory` table.  Load these data into a table called `sales`. **(2 Points)**\n",
    "\n",
    "<!--\n",
    "BEGIN QUESTION\n",
    "name: q6_4\n",
    "points:\n",
    " - 2\n",
    "-->"
   ]
  },
  {
   "cell_type": "code",
   "execution_count": 90,
   "metadata": {},
   "outputs": [
    {
     "data": {
      "text/html": [
       "<table border=\"1\" class=\"dataframe\">\n",
       "    <thead>\n",
       "        <tr>\n",
       "            <th>box ID</th> <th>fruit name</th> <th>count sold</th> <th>price per fruit ($)</th>\n",
       "        </tr>\n",
       "    </thead>\n",
       "    <tbody>\n",
       "        <tr>\n",
       "            <td>53686 </td> <td>kiwi      </td> <td>3         </td> <td>0.5                </td>\n",
       "        </tr>\n",
       "        <tr>\n",
       "            <td>57181 </td> <td>strawberry</td> <td>101       </td> <td>0.2                </td>\n",
       "        </tr>\n",
       "        <tr>\n",
       "            <td>25274 </td> <td>apple     </td> <td>0         </td> <td>0.8                </td>\n",
       "        </tr>\n",
       "        <tr>\n",
       "            <td>48800 </td> <td>orange    </td> <td>35        </td> <td>0.6                </td>\n",
       "        </tr>\n",
       "        <tr>\n",
       "            <td>26187 </td> <td>strawberry</td> <td>25        </td> <td>0.15               </td>\n",
       "        </tr>\n",
       "        <tr>\n",
       "            <td>57930 </td> <td>grape     </td> <td>355       </td> <td>0.06               </td>\n",
       "        </tr>\n",
       "        <tr>\n",
       "            <td>52357 </td> <td>strawberry</td> <td>102       </td> <td>0.25               </td>\n",
       "        </tr>\n",
       "        <tr>\n",
       "            <td>43566 </td> <td>peach     </td> <td>17        </td> <td>0.8                </td>\n",
       "        </tr>\n",
       "    </tbody>\n",
       "</table>"
      ],
      "text/plain": [
       "box ID | fruit name | count sold | price per fruit ($)\n",
       "53686  | kiwi       | 3          | 0.5\n",
       "57181  | strawberry | 101        | 0.2\n",
       "25274  | apple      | 0          | 0.8\n",
       "48800  | orange     | 35         | 0.6\n",
       "26187  | strawberry | 25         | 0.15\n",
       "57930  | grape      | 355        | 0.06\n",
       "52357  | strawberry | 102        | 0.25\n",
       "43566  | peach      | 17         | 0.8"
      ]
     },
     "execution_count": 90,
     "metadata": {},
     "output_type": "execute_result"
    }
   ],
   "source": [
    "sales = Table.read_table(\"sales.csv\")\n",
    "sales"
   ]
  },
  {
   "cell_type": "code",
   "execution_count": 91,
   "metadata": {
    "deletable": false,
    "editable": false
   },
   "outputs": [
    {
     "data": {
      "text/html": [
       "<p><strong><pre style='display: inline;'>q6_4</pre></strong> passed!</p>"
      ],
      "text/plain": [
       "q6_4 results: All test cases passed!"
      ]
     },
     "execution_count": 91,
     "metadata": {},
     "output_type": "execute_result"
    }
   ],
   "source": [
    "grader.check(\"q6_4\")"
   ]
  },
  {
   "cell_type": "markdown",
   "metadata": {
    "deletable": false,
    "editable": false
   },
   "source": [
    "**Question 5.** How many fruits did the store sell in total on that day? **(4 Points)**\n",
    "\n",
    "<!--\n",
    "BEGIN QUESTION\n",
    "name: q6_5\n",
    "points:\n",
    " - 0\n",
    " - 4\n",
    "-->"
   ]
  },
  {
   "cell_type": "code",
   "execution_count": 92,
   "metadata": {},
   "outputs": [
    {
     "data": {
      "text/plain": [
       "638"
      ]
     },
     "execution_count": 92,
     "metadata": {},
     "output_type": "execute_result"
    }
   ],
   "source": [
    "total_fruits_sold = sum(sales.column(\"count sold\"))\n",
    "total_fruits_sold"
   ]
  },
  {
   "cell_type": "code",
   "execution_count": 93,
   "metadata": {
    "deletable": false,
    "editable": false
   },
   "outputs": [
    {
     "data": {
      "text/html": [
       "<p><strong><pre style='display: inline;'>q6_5</pre></strong> passed!</p>"
      ],
      "text/plain": [
       "q6_5 results: All test cases passed!"
      ]
     },
     "execution_count": 93,
     "metadata": {},
     "output_type": "execute_result"
    }
   ],
   "source": [
    "grader.check(\"q6_5\")"
   ]
  },
  {
   "cell_type": "markdown",
   "metadata": {
    "deletable": false,
    "editable": false
   },
   "source": [
    "**Question 6.** What was the store's total revenue (the total price of all fruits sold) on that day? **(5 Points)**\n",
    "\n",
    "*Hint:* If you're stuck, think first about how you would compute the total revenue from just the grape sales.\n",
    "\n",
    "<!--\n",
    "BEGIN QUESTION\n",
    "name: q6_6\n",
    "points:\n",
    " - 0\n",
    " - 5\n",
    "-->"
   ]
  },
  {
   "cell_type": "code",
   "execution_count": 97,
   "metadata": {},
   "outputs": [
    {
     "data": {
      "text/plain": [
       "106.85"
      ]
     },
     "execution_count": 97,
     "metadata": {},
     "output_type": "execute_result"
    }
   ],
   "source": [
    "total_revenue = sum(sales.column(\"count sold\")*sales.column(\"price per fruit ($)\"))\n",
    "total_revenue"
   ]
  },
  {
   "cell_type": "code",
   "execution_count": 98,
   "metadata": {
    "deletable": false,
    "editable": false
   },
   "outputs": [
    {
     "data": {
      "text/html": [
       "<p><strong><pre style='display: inline;'>q6_6</pre></strong> passed!</p>"
      ],
      "text/plain": [
       "q6_6 results: All test cases passed!"
      ]
     },
     "execution_count": 98,
     "metadata": {},
     "output_type": "execute_result"
    }
   ],
   "source": [
    "grader.check(\"q6_6\")"
   ]
  },
  {
   "cell_type": "markdown",
   "metadata": {
    "deletable": false,
    "editable": false
   },
   "source": [
    "**Question 7.** Make a new table called `remaining_inventory`.  It should have the same rows and columns as `inventory`, except that the amount of fruit sold from each box should be subtracted from that box's **original** count, so that the \"count\" is **updated to be** the amount of fruit remaining after Saturday. **(6 Points)**\n",
    "\n",
    "<!--\n",
    "BEGIN QUESTION\n",
    "name: q6_7\n",
    "points:\n",
    " - 0\n",
    " - 3\n",
    " - 3\n",
    "-->"
   ]
  },
  {
   "cell_type": "code",
   "execution_count": 99,
   "metadata": {},
   "outputs": [
    {
     "data": {
      "text/html": [
       "<table border=\"1\" class=\"dataframe\">\n",
       "    <thead>\n",
       "        <tr>\n",
       "            <th>box ID</th> <th>fruit name</th> <th>count</th>\n",
       "        </tr>\n",
       "    </thead>\n",
       "    <tbody>\n",
       "        <tr>\n",
       "            <td>53686 </td> <td>kiwi      </td> <td>42   </td>\n",
       "        </tr>\n",
       "        <tr>\n",
       "            <td>57181 </td> <td>strawberry</td> <td>22   </td>\n",
       "        </tr>\n",
       "        <tr>\n",
       "            <td>25274 </td> <td>apple     </td> <td>20   </td>\n",
       "        </tr>\n",
       "        <tr>\n",
       "            <td>48800 </td> <td>orange    </td> <td>0    </td>\n",
       "        </tr>\n",
       "        <tr>\n",
       "            <td>26187 </td> <td>strawberry</td> <td>230  </td>\n",
       "        </tr>\n",
       "        <tr>\n",
       "            <td>57930 </td> <td>grape     </td> <td>162  </td>\n",
       "        </tr>\n",
       "        <tr>\n",
       "            <td>52357 </td> <td>strawberry</td> <td>0    </td>\n",
       "        </tr>\n",
       "        <tr>\n",
       "            <td>43566 </td> <td>peach     </td> <td>23   </td>\n",
       "        </tr>\n",
       "    </tbody>\n",
       "</table>"
      ],
      "text/plain": [
       "box ID | fruit name | count\n",
       "53686  | kiwi       | 42\n",
       "57181  | strawberry | 22\n",
       "25274  | apple      | 20\n",
       "48800  | orange     | 0\n",
       "26187  | strawberry | 230\n",
       "57930  | grape      | 162\n",
       "52357  | strawberry | 0\n",
       "43566  | peach      | 23"
      ]
     },
     "execution_count": 99,
     "metadata": {},
     "output_type": "execute_result"
    }
   ],
   "source": [
    "remaining_inventory = inventory.drop(\"count\").with_columns(\n",
    "\"count\",inventory.column(\"count\")-sales.column(\"count sold\")\n",
    ")\n",
    "remaining_inventory"
   ]
  },
  {
   "cell_type": "code",
   "execution_count": 100,
   "metadata": {
    "deletable": false,
    "editable": false
   },
   "outputs": [
    {
     "data": {
      "text/html": [
       "<p><strong><pre style='display: inline;'>q6_7</pre></strong> passed!</p>"
      ],
      "text/plain": [
       "q6_7 results: All test cases passed!"
      ]
     },
     "execution_count": 100,
     "metadata": {},
     "output_type": "execute_result"
    }
   ],
   "source": [
    "grader.check(\"q6_7\")"
   ]
  },
  {
   "cell_type": "markdown",
   "metadata": {
    "deletable": false,
    "editable": false
   },
   "source": [
    "---\n",
    "\n",
    "To double-check your work, the cell below will rerun all of the autograder tests."
   ]
  },
  {
   "cell_type": "code",
   "execution_count": 101,
   "metadata": {
    "deletable": false,
    "editable": false
   },
   "outputs": [
    {
     "data": {
      "text/html": [
       "<p><strong><pre style='display: inline;'>q1_1</pre></strong> passed!</p>\n",
       "\n",
       "<p><strong><pre style='display: inline;'>q1_2</pre></strong> passed!</p>\n",
       "\n",
       "<p><strong><pre style='display: inline;'>q1_3</pre></strong> passed!</p>\n",
       "\n",
       "<p><strong><pre style='display: inline;'>q2_1</pre></strong> passed!</p>\n",
       "\n",
       "<p><strong><pre style='display: inline;'>q2_2</pre></strong> passed!</p>\n",
       "\n",
       "<p><strong><pre style='display: inline;'>q2_3</pre></strong> passed!</p>\n",
       "\n",
       "<p><strong><pre style='display: inline;'>q2_4</pre></strong> passed!</p>\n",
       "\n",
       "<p><strong><pre style='display: inline;'>q2_5</pre></strong> passed!</p>\n",
       "\n",
       "<p><strong><pre style='display: inline;'>q3_1</pre></strong> passed!</p>\n",
       "\n",
       "<p><strong><pre style='display: inline;'>q3_2</pre></strong> passed!</p>\n",
       "\n",
       "<p><strong><pre style='display: inline;'>q3_3</pre></strong> passed!</p>\n",
       "\n",
       "<p><strong><pre style='display: inline;'>q3_4</pre></strong> passed!</p>\n",
       "\n",
       "<p><strong><pre style='display: inline;'>q3_5</pre></strong> passed!</p>\n",
       "\n",
       "<p><strong><pre style='display: inline;'>q4_1</pre></strong> passed!</p>\n",
       "\n",
       "<p><strong><pre style='display: inline;'>q4_2</pre></strong> passed!</p>\n",
       "\n",
       "<p><strong><pre style='display: inline;'>q5_1</pre></strong> passed!</p>\n",
       "\n",
       "<p><strong><pre style='display: inline;'>q5_2</pre></strong> passed!</p>\n",
       "\n",
       "<p><strong><pre style='display: inline;'>q5_3</pre></strong> passed!</p>\n",
       "\n",
       "<p><strong><pre style='display: inline;'>q5_4</pre></strong> passed!</p>\n",
       "\n",
       "<p><strong><pre style='display: inline;'>q6_1</pre></strong> passed!</p>\n",
       "\n",
       "<p><strong><pre style='display: inline;'>q6_2</pre></strong> passed!</p>\n",
       "\n",
       "<p><strong><pre style='display: inline;'>q6_3</pre></strong> passed!</p>\n",
       "\n",
       "<p><strong><pre style='display: inline;'>q6_4</pre></strong> passed!</p>\n",
       "\n",
       "<p><strong><pre style='display: inline;'>q6_5</pre></strong> passed!</p>\n",
       "\n",
       "<p><strong><pre style='display: inline;'>q6_6</pre></strong> passed!</p>\n",
       "\n",
       "<p><strong><pre style='display: inline;'>q6_7</pre></strong> passed!</p>\n",
       "\n"
      ],
      "text/plain": [
       "q1_1 results: All test cases passed!\n",
       "\n",
       "q1_2 results: All test cases passed!\n",
       "\n",
       "q1_3 results: All test cases passed!\n",
       "\n",
       "q2_1 results: All test cases passed!\n",
       "\n",
       "q2_2 results: All test cases passed!\n",
       "\n",
       "q2_3 results: All test cases passed!\n",
       "\n",
       "q2_4 results: All test cases passed!\n",
       "\n",
       "q2_5 results: All test cases passed!\n",
       "\n",
       "q3_1 results: All test cases passed!\n",
       "\n",
       "q3_2 results: All test cases passed!\n",
       "\n",
       "q3_3 results: All test cases passed!\n",
       "\n",
       "q3_4 results: All test cases passed!\n",
       "\n",
       "q3_5 results: All test cases passed!\n",
       "\n",
       "q4_1 results: All test cases passed!\n",
       "\n",
       "q4_2 results: All test cases passed!\n",
       "\n",
       "q5_1 results: All test cases passed!\n",
       "\n",
       "q5_2 results: All test cases passed!\n",
       "\n",
       "q5_3 results: All test cases passed!\n",
       "\n",
       "q5_4 results: All test cases passed!\n",
       "\n",
       "q6_1 results: All test cases passed!\n",
       "\n",
       "q6_2 results: All test cases passed!\n",
       "\n",
       "q6_3 results: All test cases passed!\n",
       "\n",
       "q6_4 results: All test cases passed!\n",
       "\n",
       "q6_5 results: All test cases passed!\n",
       "\n",
       "q6_6 results: All test cases passed!\n",
       "\n",
       "q6_7 results: All test cases passed!\n"
      ]
     },
     "execution_count": 101,
     "metadata": {},
     "output_type": "execute_result"
    }
   ],
   "source": [
    "grader.check_all()"
   ]
  },
  {
   "cell_type": "markdown",
   "metadata": {
    "deletable": false,
    "editable": false
   },
   "source": [
    "## Submission\n",
    "\n",
    "Make sure you have run all cells in your notebook in order before running the cell below, so that all images/graphs appear in the output. The cell below will generate a zip file for you to submit. **Please save before exporting!**"
   ]
  },
  {
   "cell_type": "code",
   "execution_count": null,
   "metadata": {
    "deletable": false,
    "editable": false
   },
   "outputs": [],
   "source": [
    "# Save your notebook first, then run this cell to export your submission.\n",
    "grader.export(pdf=False)"
   ]
  },
  {
   "cell_type": "markdown",
   "metadata": {},
   "source": [
    " "
   ]
  }
 ],
 "metadata": {
  "kernelspec": {
   "display_name": "Python 3",
   "language": "python",
   "name": "python3"
  },
  "language_info": {
   "codemirror_mode": {
    "name": "ipython",
    "version": 3
   },
   "file_extension": ".py",
   "mimetype": "text/x-python",
   "name": "python",
   "nbconvert_exporter": "python",
   "pygments_lexer": "ipython3",
   "version": "3.8.10"
  }
 },
 "nbformat": 4,
 "nbformat_minor": 5
}
