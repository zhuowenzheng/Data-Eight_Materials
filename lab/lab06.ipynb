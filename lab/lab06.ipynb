{
 "cells": [
  {
   "cell_type": "code",
   "execution_count": 3,
   "metadata": {
    "deletable": false,
    "editable": false
   },
   "outputs": [],
   "source": [
    "# Initialize Otter\n",
    "import otter\n",
    "grader = otter.Notebook(\"lab06.ipynb\")"
   ]
  },
  {
   "cell_type": "markdown",
   "metadata": {},
   "source": [
    "## Lab 6: Examining the Therapeutic Touch\n",
    "\n",
    "Welcome to Lab 6!\n",
    "\n",
    "After such an extensive introduction to programming for data science, we are finally moving into the section of the course where we can apply our new skils to answer real questions.  \n",
    "\n",
    "In this lab, we'll use testing techniques that were introduced in lecture to test the idea of the therapeutic touch, the idea that some practitioner can feel and massage your human energy field. \n",
    "\n",
    "**Lab Queue**: You can find the Lab Queue at [lab.data8.org](https://lab.data8.org/). Whenever you feel stuck or need some further clarification, add yourself to the queue to get help from a GSI or academic intern! Please list your breakout room number and purpose on your ticket!\n",
    "\n",
    "**Deadline**: If you are not attending lab, you have to complete this lab and submit by Sunday, 7/11 before 11:59 P.M. PT in order to receive lab credit. Otherwise, please attend the lab you are enrolled in, get checked off with your GSI or academic intern **AND** submit this assignment by the end of the lab section (with whatever progress you've made) to receive lab credit.\n",
    "\n",
    "**Submission**: Once you're finished, scroll up to the top of the page, and run every cell in the notebook.  Select \"Save and Checkpoint\" in the File menu (please don’t hit Save As), then rerun the last cell of the notebook.  The result will contain a zip file that you can submit to Gradescope. If you are in lab, you can submit a ticket on lab.data8.org to ask a staff member to check you off. "
   ]
  },
  {
   "cell_type": "code",
   "execution_count": 4,
   "metadata": {},
   "outputs": [],
   "source": [
    "# Run this cell, but please don't change it.\n",
    "\n",
    "# These lines import the Numpy and Datascience modules.\n",
    "import numpy as np\n",
    "from datascience import *\n",
    "\n",
    "# These lines do some fancy plotting magic\n",
    "import matplotlib\n",
    "%matplotlib inline\n",
    "import matplotlib.pyplot as plt\n",
    "plt.style.use('fivethirtyeight')\n",
    "import warnings\n",
    "warnings.simplefilter('ignore', FutureWarning)\n",
    "from matplotlib import patches\n",
    "from ipywidgets import interact, interactive, fixed\n",
    "import ipywidgets as widgets"
   ]
  },
  {
   "cell_type": "markdown",
   "metadata": {},
   "source": [
    "## 1. What is the Therapeutic Touch\n",
    "\n",
    "The Therapeutic Touch (TT) is the idea that everyone can feel the Human Energy Field (HEF) around individuals.  Those who practice TT have described different people's HEFs as \"warm as Jell-O\" and \"tactile as taffy.\" \n",
    "\n",
    "TT was a popular technique used throughout the 20th century that was toted as a great way to bring balance to a person's health. Certain practitioners claim they have the ability to feel the HEF and can massage it in order to promote health and relaxation in individuals.\n",
    "\n",
    "### Emily Rosa\n",
    "\n",
    "[Emily Rosa](https://en.wikipedia.org/wiki/Emily_Rosa) was a 4th grade student who was very familiar with the world of TT, thanks to her parents, who were both medical practitioners and skeptics of TT.\n",
    "\n",
    "For her 4th grade science fair project, Emily decided to test whether or not TT practitioners could truly interact with a person's HEF. She later went on to publish her work in TT, becoming the youngest person to have a research paper published in a peer reviewed medical journal."
   ]
  },
  {
   "cell_type": "markdown",
   "metadata": {},
   "source": [
    "### Emily's Experiment\n",
    "\n",
    "Emily's experiment was clean, simple, and effective. Due to her parents' occupations in the medical field, she had wide access to people who claimed to be TT practitioners. \n",
    "\n",
    "Emily took 21 TT practitioners and used them for her science experiment. She would take a TT practitioner and ask them to extend their hands through a screen (which they can't see through). Emily would be on the other side and would flip a fair coin. Depending on how the coin landed, she would put out either her left hand or her right hand. The TT practitioner would then have to answer which hand Emily put out. If a pracitioner could truly interact with a person's HEF, it would be expected that they answered correctly.\n",
    "\n",
    "Overall, through 210 samples, the practitioner picked the correct hand 44% of the time. \n",
    "\n",
    "Emily's main goal here was to test whether or not the TT practicioners' guesses were random, like the flip of a coin. In most medical experiments, this is the norm. We want to test whether or not the treatment has an effect, *not* whether or not the treatment actually works. \n",
    "\n",
    "We will now begin to formulate this experiment in terms of the terminology we learned in this course. "
   ]
  },
  {
   "cell_type": "markdown",
   "metadata": {
    "deletable": false,
    "editable": false
   },
   "source": [
    "**Question 1.1**: Describe Emily’s model for how likely the TT practitioners are to choose the correct hand. What alternative model is her model meant to discredit? Discuss with students around you to come to a conclusion. Check in with a TA or AI if you are stuck.\n",
    "\n",
    "<!--\n",
    "BEGIN QUESTION\n",
    "name: q1_1\n",
    "-->"
   ]
  },
  {
   "cell_type": "markdown",
   "metadata": {},
   "source": [
    "It is 50% that the TT practitioners are to choose the correct hand in Emily's model. Considering the probability distribution of the model, after the coin is flipped, it will land on one side out of two, and these 2 circumstances have the same probability, which means 50:50. Her model is meant to discredit the alternative model that the TT pracitioner could truly interact with a person's HEF, and the treatment has an effect, in this case, meaning TT practitioner can answer how the coin lands.  "
   ]
  },
  {
   "cell_type": "markdown",
   "metadata": {
    "deletable": false,
    "editable": false
   },
   "source": [
    "**Question 1.2:** Remember that the practitioner got the correct answer 44% (0.44) of the time. According to Emily's model, on average, what proportion of times do we expect the practitioner to guess the correct hand? Make sure your answer is between 0 and 1. \n",
    "\n",
    "<!--\n",
    "BEGIN QUESTION\n",
    "name: q1_2\n",
    "-->"
   ]
  },
  {
   "cell_type": "code",
   "execution_count": 5,
   "metadata": {},
   "outputs": [
    {
     "data": {
      "text/plain": [
       "0.5"
      ]
     },
     "execution_count": 5,
     "metadata": {},
     "output_type": "execute_result"
    }
   ],
   "source": [
    "expected_proportion_correct = 0.5\n",
    "expected_proportion_correct"
   ]
  },
  {
   "cell_type": "code",
   "execution_count": 6,
   "metadata": {
    "deletable": false,
    "editable": false
   },
   "outputs": [
    {
     "data": {
      "text/html": [
       "<p><strong><pre style='display: inline;'>q1_2</pre></strong> passed!</p>"
      ],
      "text/plain": [
       "q1_2 results: All test cases passed!"
      ]
     },
     "execution_count": 6,
     "metadata": {},
     "output_type": "execute_result"
    }
   ],
   "source": [
    "grader.check(\"q1_2\")"
   ]
  },
  {
   "cell_type": "markdown",
   "metadata": {
    "deletable": false,
    "editable": false
   },
   "source": [
    "The goal now is to see if our deviation from this expected proportion of correct answers is due to something other than chance. \n",
    "\n",
    "**Question 1.3:** We usually use a statistic to help determine which model the evidence points towards. What is a statistic that we can use to compare outcomes under Emily’s model to what was observed? Assign `valid_stat` to an array of integer(s) representing test statistics that Emily can use: \n",
    "\n",
    "1. The difference between the expected percent correct and the actual percent correct\n",
    "2. The absolute difference between the expected percent correct and the actual percent correct\n",
    "3. The sum of the expected percent correct and the actual percent correct\n",
    "\n",
    "**NOTE:** Make sure to use `make_array` to create your array of integer(s)!\n",
    "\n",
    "<!--\n",
    "BEGIN QUESTION\n",
    "name: q1_3\n",
    "-->"
   ]
  },
  {
   "cell_type": "code",
   "execution_count": 9,
   "metadata": {},
   "outputs": [
    {
     "data": {
      "text/plain": [
       "array([2])"
      ]
     },
     "execution_count": 9,
     "metadata": {},
     "output_type": "execute_result"
    }
   ],
   "source": [
    "valid_stat = make_array(2)\n",
    "valid_stat"
   ]
  },
  {
   "cell_type": "code",
   "execution_count": 10,
   "metadata": {
    "deletable": false,
    "editable": false
   },
   "outputs": [
    {
     "data": {
      "text/html": [
       "<p><strong><pre style='display: inline;'>q1_3</pre></strong> passed!</p>"
      ],
      "text/plain": [
       "q1_3 results: All test cases passed!"
      ]
     },
     "execution_count": 10,
     "metadata": {},
     "output_type": "execute_result"
    }
   ],
   "source": [
    "grader.check(\"q1_3\")"
   ]
  },
  {
   "cell_type": "markdown",
   "metadata": {
    "deletable": false,
    "editable": false
   },
   "source": [
    "**Question 1.4:** Why is the statistic from Question 3 the best choice for comparing outcomes in Emily's experiment? How does it relate to the models you defined in question 1.1?\n",
    "\n",
    "<!--\n",
    "BEGIN QUESTION\n",
    "name: q1_4\n",
    "-->"
   ]
  },
  {
   "cell_type": "markdown",
   "metadata": {},
   "source": [
    "(1)Because absolute difference give us a direct view of how the outcomes differ from the expected result, by calculating the absolute difference between the expected percent correct and the actual percent correct, it becomes simple to compare outcomes in Emily's experiment and verify whether the model is correct or not. If the statistic is large, that is evidence against the model.\n",
    "(2) The closer the actual percent correct to 50% is, the less absolute difference between the expected percent correct and the actual percent correct, which means it is more accurate.\n"
   ]
  },
  {
   "cell_type": "markdown",
   "metadata": {
    "deletable": false,
    "editable": false
   },
   "source": [
    "**Question 1.5:** Define the function `statistic` which takes in an expected proportion and an actual proportion, and returns the value of the statistic chosen in Question 3. Assume that the argument takes in proportions, but  return your answer as a percentage. \n",
    "\n",
    "*Hint:* Remember we are asking for a **percentage**, not a proportion. \n",
    "\n",
    "<!--\n",
    "BEGIN QUESTION\n",
    "name: q1_5\n",
    "-->"
   ]
  },
  {
   "cell_type": "code",
   "execution_count": 11,
   "metadata": {},
   "outputs": [],
   "source": [
    "def statistic(expected_prop, actual_prop):\n",
    "    return abs(expected_prop - actual_prop)*100"
   ]
  },
  {
   "cell_type": "code",
   "execution_count": 12,
   "metadata": {
    "deletable": false,
    "editable": false
   },
   "outputs": [
    {
     "data": {
      "text/html": [
       "<p><strong><pre style='display: inline;'>q1_5</pre></strong> passed!</p>"
      ],
      "text/plain": [
       "q1_5 results: All test cases passed!"
      ]
     },
     "execution_count": 12,
     "metadata": {},
     "output_type": "execute_result"
    }
   ],
   "source": [
    "grader.check(\"q1_5\")"
   ]
  },
  {
   "cell_type": "markdown",
   "metadata": {
    "deletable": false,
    "editable": false
   },
   "source": [
    "**Question 1.6:** Use your newly defined function to calculate the observed statistic from Emily's experiment. \n",
    "\n",
    "<!--\n",
    "BEGIN QUESTION\n",
    "name: q1_6\n",
    "-->"
   ]
  },
  {
   "cell_type": "code",
   "execution_count": 53,
   "metadata": {},
   "outputs": [
    {
     "data": {
      "text/plain": [
       "6.0"
      ]
     },
     "execution_count": 53,
     "metadata": {},
     "output_type": "execute_result"
    }
   ],
   "source": [
    "observed_statistic = statistic(expected_proportion_correct, 0.44)\n",
    "observed_statistic"
   ]
  },
  {
   "cell_type": "code",
   "execution_count": 54,
   "metadata": {
    "deletable": false,
    "editable": false
   },
   "outputs": [
    {
     "data": {
      "text/html": [
       "<p><strong><pre style='display: inline;'>q1_6</pre></strong> passed!</p>"
      ],
      "text/plain": [
       "q1_6 results: All test cases passed!"
      ]
     },
     "execution_count": 54,
     "metadata": {},
     "output_type": "execute_result"
    }
   ],
   "source": [
    "grader.check(\"q1_6\")"
   ]
  },
  {
   "cell_type": "markdown",
   "metadata": {},
   "source": [
    "**Is this observed statistic consistent with what we expect to see under Emily’s model?**\n",
    "\n",
    "In order to answer this question, we must simulate the experiment as though Emily's model was correct, and calculate our statistic for every simulation.\n",
    "\n",
    "### `sample_proportions`\n",
    "\n",
    "`sample_proportions` can be used to randomly sample from multiple categories when you know the proportion of data points that are expected to fall in each category. `sample_proportions` takes two arguments: the sample size and an array that contains the distribution of categories in the population (should sum to 1).\n",
    "\n",
    "Consider flipping a fair coin, where the two outcomes (coin lands heads and coin lands tails) occur with an equal chance. We expect that half of all coin flips will land heads, and half of all coin flips will land tails.\n",
    "\n",
    "Run the following cell to see the simulation of 10 flips of a fair coin. Let the first item of `coin_proportions` be the proportion of heads and the second item of `coin_proportions` be the proportion of tails.\n",
    "\n",
    "*Observe what happens when you run this cell multiple times—the proportion of coin flips that land heads and tails appears to change, as you are simulating flipping 10 coins each time!*"
   ]
  },
  {
   "cell_type": "code",
   "execution_count": 26,
   "metadata": {},
   "outputs": [
    {
     "data": {
      "text/plain": [
       "array([0.4, 0.6])"
      ]
     },
     "execution_count": 26,
     "metadata": {},
     "output_type": "execute_result"
    }
   ],
   "source": [
    "coin_proportions = make_array(0.5, 0.5) \n",
    "ten_flips = sample_proportions(10, coin_proportions)\n",
    "ten_flips"
   ]
  },
  {
   "cell_type": "markdown",
   "metadata": {},
   "source": [
    "`sample_proportions` returns an array that is the same length as the proportion array that is passed through. It contains the proportion of each category that appears in the sample. \n",
    "\n",
    "In our example, the first item of `ten_flips` is the simulated proportion of heads and the second item of `ten_flips` is the simulated proportion of tails."
   ]
  },
  {
   "cell_type": "code",
   "execution_count": 27,
   "metadata": {},
   "outputs": [
    {
     "name": "stdout",
     "output_type": "stream",
     "text": [
      "In our simluation, 0.4 of flips were heads and 0.6 of flips were tails.\n"
     ]
    }
   ],
   "source": [
    "simluated_proportion_heads = ten_flips.item(0)\n",
    "simluated_proportion_tails = ten_flips.item(1)\n",
    "\n",
    "print(\"In our simluation, \" + str(simluated_proportion_heads) + \" of flips were heads and \" \\\n",
    "      + str(simluated_proportion_tails) + \" of flips were tails.\")"
   ]
  },
  {
   "cell_type": "markdown",
   "metadata": {
    "deletable": false,
    "editable": false
   },
   "source": [
    "**Question 1.7:** To begin simulating, we should start by creating a representation of Emily's model to use for our simulation. This will be an array with two items in it. The first item should be the proportion of times, assuming that Emily’s model was correct, a TT practictioner picks the correct hand. The second item should be the proportion of times, under the same assumption, that the TT practitioner picks the incorrect hand. Assign `model_proportions` to this array. \n",
    "\n",
    "After this, we can simulate 210 hand choices, as Emily evaluated in real life, and find a single statistic to summarize this instance of the simulation. Use the `sample_proportions` function and assign the proportion of correct hand choices (out of 210) to `simulation_proportion_correct`. Lastly, use your statistic function to assign `one_statistic`  to the value of the statistic for this one simulation.\n",
    "\n",
    "*Hint:* `sample_proportions` usage can be found [here](http://data8.org/su21/python-reference.html).\n",
    "\n",
    "<!--\n",
    "BEGIN QUESTION\n",
    "name: q1_7\n",
    "-->"
   ]
  },
  {
   "cell_type": "code",
   "execution_count": 67,
   "metadata": {},
   "outputs": [
    {
     "data": {
      "text/plain": [
       "0.4761904761904745"
      ]
     },
     "execution_count": 67,
     "metadata": {},
     "output_type": "execute_result"
    }
   ],
   "source": [
    "model_proportions = make_array(.5,.5)\n",
    "simulation_proportion_correct = sample_proportions(210 , model_proportions).item(0)\n",
    "one_statistic = statistic(model_proportions.item(0),simulation_proportion_correct)\n",
    "one_statistic"
   ]
  },
  {
   "cell_type": "code",
   "execution_count": 68,
   "metadata": {
    "deletable": false,
    "editable": false
   },
   "outputs": [
    {
     "data": {
      "text/html": [
       "<p><strong><pre style='display: inline;'>q1_7</pre></strong> passed!</p>"
      ],
      "text/plain": [
       "q1_7 results: All test cases passed!"
      ]
     },
     "execution_count": 68,
     "metadata": {},
     "output_type": "execute_result"
    }
   ],
   "source": [
    "grader.check(\"q1_7\")"
   ]
  },
  {
   "cell_type": "markdown",
   "metadata": {},
   "source": [
    "**Question 1.8:** Let's now see what the distribution of statistics is actually like under Emily's model. \n",
    "\n",
    "Define the function `simulation_and_statistic` to take in the `model_proportions` array and the expected proportion of times a TT practitioner would guess a hand correctly under Emily's model. The function should simulate Emily running through the experiment 210 times and return the statistic of this one simulation. \n",
    "\n",
    "*Hint:* This should follow the same pattern as the code you did in the previous problem.  "
   ]
  },
  {
   "cell_type": "code",
   "execution_count": 69,
   "metadata": {
    "for_assignment_type": "solution"
   },
   "outputs": [],
   "source": [
    "def simulation_and_statistic(model_proportions, expected_proportion_correct):\n",
    "    '''Simulates 210 TT hand choices under Emily’s model. \n",
    "    Returns one statistic from the simulation.'''\n",
    "    model_proportions = make_array(expected_proportion_correct,1 - expected_proportion_correct)\n",
    "    simulation_proportion_correct = sample_proportions(210 , model_proportions).item(0)\n",
    "    one_statistic = statistic(model_proportions.item(0),simulation_proportion_correct)\n",
    "    return one_statistic"
   ]
  },
  {
   "cell_type": "markdown",
   "metadata": {
    "deletable": false,
    "editable": false
   },
   "source": [
    "Using this function, assign `simulated_statistics` to an array of 1000 statistics that you calculated under the assumption that Emily's model was true.\n",
    "\n",
    "<!--\n",
    "BEGIN QUESTION\n",
    "name: q1_8\n",
    "-->"
   ]
  },
  {
   "cell_type": "code",
   "execution_count": 78,
   "metadata": {},
   "outputs": [
    {
     "data": {
      "text/plain": [
       "array([ 0.        ,  3.80952381,  2.85714286,  0.        ,  4.28571429,\n",
       "        2.38095238,  2.85714286,  3.80952381,  0.47619048,  2.85714286,\n",
       "        2.38095238,  1.9047619 ,  3.80952381,  2.38095238,  0.95238095,\n",
       "        1.42857143,  2.85714286,  3.33333333,  3.80952381,  0.95238095,\n",
       "        1.9047619 ,  3.33333333,  2.38095238,  6.19047619,  1.42857143,\n",
       "        3.33333333,  0.        ,  4.76190476,  1.42857143,  1.42857143,\n",
       "        0.95238095,  5.23809524,  0.        ,  7.14285714,  0.47619048,\n",
       "        0.47619048,  2.85714286,  0.47619048,  3.33333333,  2.38095238,\n",
       "        4.76190476,  2.85714286,  0.        ,  1.9047619 ,  1.42857143,\n",
       "        9.52380952,  0.        ,  6.66666667,  4.28571429,  5.23809524,\n",
       "        2.85714286,  1.9047619 ,  5.23809524,  6.19047619,  5.71428571,\n",
       "        0.        ,  3.80952381,  2.85714286,  1.9047619 ,  0.        ,\n",
       "        3.33333333,  1.42857143,  2.38095238,  0.47619048,  2.85714286,\n",
       "        1.9047619 ,  4.76190476,  3.33333333,  0.95238095,  0.        ,\n",
       "        0.47619048,  3.33333333,  0.47619048,  0.95238095,  3.80952381,\n",
       "        2.38095238,  2.85714286,  3.33333333,  0.47619048,  4.76190476,\n",
       "        0.        ,  4.76190476,  0.47619048,  3.33333333,  2.38095238,\n",
       "        0.95238095,  1.42857143,  0.95238095,  4.28571429,  6.19047619,\n",
       "        3.33333333,  2.38095238,  7.61904762,  0.95238095,  1.9047619 ,\n",
       "        2.85714286,  0.        ,  2.38095238,  5.23809524,  0.95238095,\n",
       "        2.38095238,  4.28571429,  4.76190476,  2.38095238,  2.85714286,\n",
       "        2.38095238,  2.85714286,  5.71428571,  1.9047619 ,  1.42857143,\n",
       "        0.        ,  5.71428571,  4.76190476,  1.9047619 ,  0.95238095,\n",
       "        3.80952381,  1.9047619 ,  3.33333333,  0.95238095,  2.38095238,\n",
       "        4.28571429,  5.71428571,  2.38095238,  2.38095238,  1.42857143,\n",
       "        2.85714286,  0.47619048,  2.85714286,  5.23809524,  2.38095238,\n",
       "        0.47619048,  5.23809524,  0.47619048,  0.95238095,  1.42857143,\n",
       "        2.85714286,  4.76190476,  0.95238095,  1.9047619 ,  0.95238095,\n",
       "        4.28571429,  1.42857143,  2.38095238,  1.42857143,  4.28571429,\n",
       "        7.14285714,  7.14285714,  0.47619048,  0.47619048,  0.95238095,\n",
       "        4.28571429,  0.95238095,  0.47619048,  3.33333333,  2.38095238,\n",
       "        0.95238095,  4.28571429,  0.95238095,  2.85714286,  1.42857143,\n",
       "        1.42857143,  1.9047619 ,  2.38095238,  3.80952381,  6.66666667,\n",
       "        5.71428571,  3.33333333,  0.        ,  4.76190476,  4.76190476,\n",
       "        0.47619048,  1.42857143,  4.76190476,  0.95238095,  2.85714286,\n",
       "        1.9047619 ,  1.42857143,  2.38095238,  5.71428571,  3.80952381,\n",
       "        2.38095238,  1.9047619 ,  0.47619048,  0.47619048,  3.80952381,\n",
       "        0.95238095,  2.85714286,  7.14285714,  0.47619048,  0.47619048,\n",
       "        4.28571429,  0.95238095,  1.42857143,  2.38095238,  0.47619048,\n",
       "        0.95238095,  1.42857143,  8.0952381 ,  2.38095238,  3.80952381,\n",
       "        2.85714286,  1.9047619 ,  0.        ,  1.9047619 ,  0.95238095,\n",
       "        4.76190476,  2.85714286,  4.76190476,  2.38095238,  0.95238095,\n",
       "        2.38095238,  5.23809524,  2.85714286,  1.9047619 ,  5.71428571,\n",
       "        2.38095238,  0.47619048,  7.14285714,  3.33333333,  5.71428571,\n",
       "        0.95238095,  7.14285714,  6.19047619,  4.28571429,  0.        ,\n",
       "        0.95238095,  1.9047619 ,  0.        ,  2.85714286,  7.61904762,\n",
       "        1.9047619 ,  2.85714286,  0.47619048,  7.61904762,  1.9047619 ,\n",
       "       10.        ,  3.33333333,  5.71428571,  1.9047619 ,  4.28571429,\n",
       "        1.9047619 ,  1.42857143,  3.80952381,  1.42857143,  0.95238095,\n",
       "        0.95238095,  5.71428571,  5.23809524,  2.85714286,  4.28571429,\n",
       "        2.38095238,  0.47619048,  5.71428571,  5.23809524,  1.9047619 ,\n",
       "        1.9047619 , 10.95238095,  0.        ,  2.85714286,  0.        ,\n",
       "        2.85714286,  1.42857143,  1.42857143,  0.95238095,  4.76190476,\n",
       "        2.38095238,  0.47619048,  0.        ,  2.38095238,  3.80952381,\n",
       "        2.85714286,  1.42857143,  0.47619048,  3.80952381,  3.80952381,\n",
       "        1.42857143,  0.47619048,  1.42857143,  6.19047619,  1.9047619 ,\n",
       "        3.33333333,  3.80952381,  1.9047619 ,  0.47619048,  2.38095238,\n",
       "        2.38095238,  3.80952381,  0.95238095,  4.76190476,  3.80952381,\n",
       "        2.85714286,  2.85714286,  1.9047619 ,  3.80952381,  2.38095238,\n",
       "        1.42857143,  0.47619048,  2.85714286,  0.47619048,  0.47619048,\n",
       "        1.9047619 ,  3.80952381,  2.38095238,  0.95238095,  0.95238095,\n",
       "        0.95238095,  1.42857143,  1.42857143,  4.28571429,  1.9047619 ,\n",
       "        1.42857143,  0.95238095,  2.38095238,  2.38095238,  0.47619048,\n",
       "        8.57142857,  0.        ,  4.28571429,  3.33333333,  5.71428571,\n",
       "        2.85714286,  0.        ,  0.47619048,  5.71428571,  1.42857143,\n",
       "        0.47619048,  6.19047619,  0.47619048,  0.95238095,  3.33333333,\n",
       "        0.95238095,  1.42857143,  5.23809524,  0.47619048,  5.23809524,\n",
       "        0.47619048,  0.47619048,  0.95238095,  1.9047619 ,  0.47619048,\n",
       "        3.80952381,  1.9047619 ,  1.9047619 ,  0.95238095,  2.85714286,\n",
       "        6.19047619,  1.9047619 ,  1.9047619 ,  1.9047619 ,  3.80952381,\n",
       "        2.85714286,  1.9047619 ,  3.33333333,  3.80952381,  4.76190476,\n",
       "        3.80952381,  0.47619048,  1.9047619 ,  0.47619048,  2.38095238,\n",
       "        4.76190476,  2.85714286,  2.38095238,  6.19047619,  5.71428571,\n",
       "        5.23809524,  1.42857143,  0.95238095,  6.66666667,  3.33333333,\n",
       "        0.95238095,  5.71428571,  0.95238095,  0.95238095,  2.38095238,\n",
       "        1.42857143,  0.95238095,  4.28571429,  0.95238095,  1.9047619 ,\n",
       "        4.76190476,  2.38095238,  0.95238095,  5.23809524,  0.47619048,\n",
       "        0.95238095,  0.95238095,  4.76190476,  1.42857143,  1.42857143,\n",
       "        0.47619048,  4.28571429,  2.38095238,  0.95238095,  0.        ,\n",
       "        0.95238095,  2.85714286,  3.33333333,  1.42857143,  0.47619048,\n",
       "        0.47619048,  0.        ,  1.42857143,  0.47619048,  2.38095238,\n",
       "        4.76190476,  2.38095238,  0.95238095, 10.        ,  0.47619048,\n",
       "        3.80952381,  8.0952381 ,  3.80952381,  5.71428571,  0.95238095,\n",
       "        4.76190476,  0.47619048,  4.28571429,  4.28571429,  1.9047619 ,\n",
       "        0.95238095,  2.85714286,  1.9047619 ,  4.28571429,  0.        ,\n",
       "        0.95238095,  2.38095238,  1.9047619 ,  0.95238095,  4.76190476,\n",
       "        1.9047619 ,  1.9047619 ,  7.61904762,  3.80952381,  2.85714286,\n",
       "        1.9047619 ,  1.42857143,  3.80952381,  0.95238095,  2.38095238,\n",
       "        0.        ,  0.        ,  0.        ,  7.14285714,  3.80952381,\n",
       "        1.9047619 ,  5.23809524,  5.71428571,  1.42857143,  1.42857143,\n",
       "        0.47619048,  1.9047619 ,  1.9047619 ,  2.38095238,  3.33333333,\n",
       "        1.42857143,  4.28571429,  6.19047619,  1.9047619 ,  1.42857143,\n",
       "        6.66666667,  6.19047619,  1.42857143,  2.38095238,  0.47619048,\n",
       "        0.        ,  0.95238095,  0.95238095,  3.33333333,  1.42857143,\n",
       "        3.80952381,  1.9047619 ,  1.42857143,  0.95238095,  0.47619048,\n",
       "        1.9047619 ,  4.28571429,  0.47619048,  2.38095238,  2.85714286,\n",
       "        0.47619048,  1.9047619 ,  1.42857143,  0.95238095,  0.95238095,\n",
       "        0.        ,  0.95238095,  0.47619048,  5.23809524,  2.85714286,\n",
       "        4.28571429,  0.47619048,  4.28571429,  1.9047619 ,  0.47619048,\n",
       "        3.33333333,  2.85714286,  1.42857143,  0.95238095,  4.76190476,\n",
       "        5.23809524,  2.38095238,  6.66666667,  1.42857143,  8.0952381 ,\n",
       "        0.95238095,  2.85714286,  0.47619048,  3.80952381,  1.42857143,\n",
       "        4.28571429,  1.42857143,  1.9047619 ,  2.38095238,  4.76190476,\n",
       "        3.33333333,  2.85714286,  3.33333333,  0.47619048,  5.71428571,\n",
       "        1.9047619 ,  1.42857143,  2.85714286,  1.42857143,  2.85714286,\n",
       "        3.80952381,  0.95238095,  0.47619048,  1.9047619 ,  0.47619048,\n",
       "        0.95238095,  1.9047619 ,  3.80952381,  0.95238095,  2.85714286,\n",
       "        0.95238095,  0.        ,  3.80952381,  2.85714286,  5.23809524,\n",
       "        3.80952381,  0.47619048,  1.42857143, 10.        ,  0.95238095,\n",
       "        4.76190476,  1.42857143,  1.9047619 ,  1.42857143,  5.71428571,\n",
       "        0.95238095,  3.33333333,  3.33333333,  0.95238095,  2.85714286,\n",
       "        1.9047619 ,  4.76190476,  7.14285714,  6.66666667,  1.42857143,\n",
       "        0.47619048,  0.47619048,  2.85714286,  4.28571429,  0.95238095,\n",
       "        3.80952381,  1.42857143,  1.9047619 ,  3.33333333,  4.28571429,\n",
       "        4.76190476,  1.42857143,  1.9047619 ,  7.61904762,  5.71428571,\n",
       "        1.42857143,  3.80952381,  0.        ,  8.57142857,  0.47619048,\n",
       "        4.76190476,  0.        ,  1.9047619 ,  0.47619048,  6.19047619,\n",
       "        2.85714286,  4.76190476,  1.9047619 ,  1.42857143,  1.9047619 ,\n",
       "        9.04761905,  2.38095238,  1.9047619 ,  2.85714286,  0.47619048,\n",
       "        0.95238095,  2.38095238,  0.95238095,  0.95238095,  0.95238095,\n",
       "        1.9047619 ,  0.95238095,  5.23809524,  0.47619048,  7.14285714,\n",
       "        0.47619048,  0.47619048,  1.42857143,  5.71428571,  0.47619048,\n",
       "        0.95238095,  0.95238095,  0.47619048,  0.        ,  2.85714286,\n",
       "        7.14285714,  0.47619048,  2.85714286,  5.23809524,  0.47619048,\n",
       "        6.19047619,  2.38095238,  0.        ,  4.76190476,  2.38095238,\n",
       "        2.85714286,  0.95238095,  1.9047619 ,  0.95238095,  1.9047619 ,\n",
       "        0.47619048,  0.95238095,  1.42857143,  2.38095238,  2.38095238,\n",
       "        1.42857143,  7.14285714,  3.80952381,  7.61904762,  4.28571429,\n",
       "        0.        ,  3.80952381,  2.38095238,  0.95238095,  1.9047619 ,\n",
       "        0.47619048,  5.23809524,  1.42857143,  3.33333333,  3.33333333,\n",
       "        2.85714286,  0.        ,  0.95238095,  1.42857143,  3.33333333,\n",
       "        0.95238095,  4.76190476,  0.95238095,  3.33333333,  4.28571429,\n",
       "        2.85714286,  1.42857143,  0.95238095,  5.23809524,  3.33333333,\n",
       "        1.42857143,  1.9047619 ,  1.42857143,  0.95238095,  3.80952381,\n",
       "        1.9047619 ,  3.33333333,  1.9047619 ,  6.66666667,  3.33333333,\n",
       "        4.76190476,  1.9047619 ,  4.28571429,  2.85714286,  0.        ,\n",
       "        0.47619048,  0.47619048,  2.38095238,  4.28571429,  2.38095238,\n",
       "        1.42857143,  4.76190476,  1.42857143,  5.71428571,  3.33333333,\n",
       "        3.80952381,  1.42857143,  3.33333333,  1.42857143,  4.28571429,\n",
       "        2.85714286,  0.47619048,  0.47619048,  0.47619048,  3.33333333,\n",
       "        0.        ,  4.76190476,  6.66666667,  4.76190476,  2.85714286,\n",
       "        1.42857143,  0.95238095,  1.42857143,  9.04761905,  0.95238095,\n",
       "        2.38095238,  1.9047619 ,  3.33333333,  7.14285714,  3.80952381,\n",
       "        4.76190476,  2.85714286,  1.9047619 ,  3.80952381,  0.        ,\n",
       "        0.47619048,  0.95238095,  4.76190476,  3.80952381,  4.28571429,\n",
       "        3.33333333,  5.71428571,  1.9047619 ,  2.85714286,  1.9047619 ,\n",
       "        0.47619048,  1.42857143,  0.95238095,  2.38095238,  2.38095238,\n",
       "        5.23809524,  5.71428571,  3.33333333,  1.9047619 ,  3.33333333,\n",
       "        4.28571429,  2.38095238,  0.47619048,  3.33333333,  6.19047619,\n",
       "        2.85714286,  8.0952381 ,  1.42857143,  0.47619048,  4.28571429,\n",
       "        3.80952381,  3.80952381,  6.66666667,  4.28571429,  3.33333333,\n",
       "        4.76190476,  0.47619048,  0.95238095,  5.23809524,  2.85714286,\n",
       "        0.        ,  0.47619048,  0.95238095,  3.33333333,  1.9047619 ,\n",
       "        3.33333333,  0.95238095,  0.95238095,  1.9047619 ,  2.38095238,\n",
       "        2.38095238,  6.19047619,  1.9047619 ,  1.9047619 ,  0.        ,\n",
       "        5.23809524,  3.80952381,  3.33333333,  6.66666667,  1.42857143,\n",
       "        5.71428571,  7.61904762,  0.47619048,  5.23809524,  4.76190476,\n",
       "        5.23809524,  1.42857143,  6.66666667,  4.28571429,  0.47619048,\n",
       "        0.95238095,  6.66666667,  6.19047619,  6.66666667,  2.85714286,\n",
       "        1.42857143,  4.76190476,  2.85714286,  0.47619048,  0.47619048,\n",
       "        3.33333333,  5.71428571,  6.19047619,  0.47619048,  0.        ,\n",
       "        0.95238095,  2.85714286,  4.76190476,  0.47619048,  0.95238095,\n",
       "        9.52380952,  1.9047619 ,  4.28571429,  0.47619048,  0.47619048,\n",
       "        1.9047619 ,  0.        ,  6.66666667,  2.38095238,  0.95238095,\n",
       "        2.38095238,  0.95238095,  4.76190476,  1.42857143,  0.47619048,\n",
       "        3.80952381,  3.33333333,  2.38095238,  3.80952381,  3.33333333,\n",
       "        6.19047619,  3.33333333,  0.95238095,  6.66666667,  7.61904762,\n",
       "        1.9047619 ,  2.85714286,  0.47619048,  5.23809524,  2.38095238,\n",
       "        0.        ,  1.42857143,  0.47619048,  0.47619048,  1.42857143,\n",
       "        3.33333333,  3.80952381,  2.85714286,  1.9047619 ,  4.28571429,\n",
       "        0.47619048,  0.47619048,  3.33333333,  6.19047619,  4.76190476,\n",
       "        0.47619048,  4.28571429,  1.9047619 ,  2.38095238,  3.33333333,\n",
       "        0.47619048,  3.80952381,  4.28571429,  2.85714286,  0.47619048,\n",
       "        4.76190476,  2.85714286,  5.71428571,  5.71428571,  1.42857143,\n",
       "        4.28571429,  0.95238095,  0.95238095,  0.95238095,  0.95238095,\n",
       "        0.95238095,  2.85714286,  8.57142857,  5.71428571,  1.42857143,\n",
       "        2.38095238,  1.42857143,  0.95238095,  1.9047619 ,  0.47619048,\n",
       "        0.95238095,  1.42857143,  4.76190476,  5.71428571,  1.9047619 ,\n",
       "        1.9047619 ,  0.47619048,  0.95238095,  4.76190476,  0.        ,\n",
       "        6.19047619,  7.14285714,  7.14285714,  2.38095238,  4.76190476,\n",
       "        5.23809524,  3.80952381,  2.38095238,  3.80952381,  0.47619048,\n",
       "        1.9047619 ,  2.85714286,  2.85714286,  0.95238095,  3.80952381,\n",
       "        4.76190476,  0.        ,  1.9047619 ,  7.61904762,  0.47619048,\n",
       "        3.33333333,  3.80952381,  7.61904762,  0.47619048,  1.9047619 ,\n",
       "        1.42857143,  1.42857143,  2.85714286,  4.76190476,  1.42857143,\n",
       "        2.85714286,  0.95238095,  1.42857143,  1.42857143,  4.76190476,\n",
       "        1.42857143,  2.38095238,  4.28571429,  1.42857143,  1.9047619 ,\n",
       "        2.38095238,  3.33333333,  2.38095238,  3.33333333,  6.19047619,\n",
       "        0.        ,  3.33333333,  2.85714286,  7.61904762,  8.57142857,\n",
       "        3.33333333,  2.38095238,  4.28571429,  0.47619048,  1.42857143,\n",
       "        2.38095238,  7.14285714,  2.38095238,  4.76190476,  0.95238095,\n",
       "        7.61904762,  0.95238095,  0.47619048,  2.38095238,  0.        ,\n",
       "        0.95238095,  0.        ,  4.28571429,  2.38095238,  1.42857143,\n",
       "        1.42857143,  0.47619048,  6.66666667,  1.42857143,  3.80952381,\n",
       "        0.95238095,  0.47619048,  2.38095238,  3.80952381,  1.9047619 ,\n",
       "        3.33333333,  0.        ,  1.9047619 ,  3.33333333,  1.9047619 ,\n",
       "        0.        ,  2.38095238,  3.33333333,  1.42857143,  0.47619048,\n",
       "        0.47619048,  3.33333333,  4.28571429,  0.47619048,  2.38095238,\n",
       "        1.42857143,  0.47619048,  3.80952381,  2.38095238,  1.9047619 ,\n",
       "        0.95238095,  0.95238095,  4.76190476,  1.42857143,  1.42857143])"
      ]
     },
     "execution_count": 78,
     "metadata": {},
     "output_type": "execute_result"
    }
   ],
   "source": [
    "num_repetitions = 1000\n",
    "\n",
    "simulated_statistics = make_array()\n",
    "\n",
    "for i in np.arange(num_repetitions):\n",
    "    statistics = simulation_and_statistic(model_proportions,model_proportions.item(0))\n",
    "    simulated_statistics = np.append(simulated_statistics,statistics)\n",
    "simulated_statistics"
   ]
  },
  {
   "cell_type": "code",
   "execution_count": 79,
   "metadata": {
    "deletable": false,
    "editable": false
   },
   "outputs": [
    {
     "data": {
      "text/html": [
       "<p><strong><pre style='display: inline;'>q1_8</pre></strong> passed!</p>"
      ],
      "text/plain": [
       "q1_8 results: All test cases passed!"
      ]
     },
     "execution_count": 79,
     "metadata": {},
     "output_type": "execute_result"
    }
   ],
   "source": [
    "grader.check(\"q1_8\")"
   ]
  },
  {
   "cell_type": "markdown",
   "metadata": {},
   "source": [
    "Let's view the distribution of the simulated statistics under Emily's model, and visually compare where the observed statistic lies relative to the simulated statistics."
   ]
  },
  {
   "cell_type": "code",
   "execution_count": 80,
   "metadata": {},
   "outputs": [
    {
     "data": {
      "image/png": "[encoded data removed]",
      "text/plain": [
       "<Figure size 432x288 with 1 Axes>"
      ]
     },
     "metadata": {},
     "output_type": "display_data"
    }
   ],
   "source": [
    "t = Table().with_column('Simulated Statistics', simulated_statistics)\n",
    "t.hist()\n",
    "plt.scatter(observed_statistic, 0, color='red', s=100);"
   ]
  },
  {
   "cell_type": "markdown",
   "metadata": {},
   "source": [
    "We can make a visual argument as to whether we believe the observed statistic is consistent with Emily’s model. Here, since larger values of the test statistic suggest the alternative model (where the chance of guessing the correct hand is something other than 50%), we can formalize our analysis by finding what proportion of simulated statistics were as large or larger than our observed test statistic (the area at or to the right of the observed test statistic). If this area is small enough, we’ll declare that the observed data are inconsistent with our simulated model."
   ]
  },
  {
   "cell_type": "markdown",
   "metadata": {
    "deletable": false,
    "editable": false
   },
   "source": [
    "**Question 1.9:** Calculate the proportion of simulated statistics greater than or equal to the observed statistic. \n",
    "\n",
    "*Hint:* `np.count_nonzero` usage can be found [here](http://data8.org/su21/python-reference.html).\n",
    "\n",
    "<!--\n",
    "BEGIN QUESTION\n",
    "name: q1_9\n",
    "-->"
   ]
  },
  {
   "cell_type": "code",
   "execution_count": 81,
   "metadata": {
    "scrolled": true
   },
   "outputs": [
    {
     "data": {
      "text/plain": [
       "0.079"
      ]
     },
     "execution_count": 81,
     "metadata": {},
     "output_type": "execute_result"
    }
   ],
   "source": [
    "proportion_greater_or_equal = np.count_nonzero(simulated_statistics>=observed_statistic)/ len(simulated_statistics)\n",
    "proportion_greater_or_equal"
   ]
  },
  {
   "cell_type": "code",
   "execution_count": 82,
   "metadata": {
    "deletable": false,
    "editable": false
   },
   "outputs": [
    {
     "data": {
      "text/html": [
       "<p><strong><pre style='display: inline;'>q1_9</pre></strong> passed!</p>"
      ],
      "text/plain": [
       "q1_9 results: All test cases passed!"
      ]
     },
     "execution_count": 82,
     "metadata": {},
     "output_type": "execute_result"
    }
   ],
   "source": [
    "grader.check(\"q1_9\")"
   ]
  },
  {
   "cell_type": "markdown",
   "metadata": {},
   "source": [
    "By convention, we often compare the proportion we just calculated to 0.05. If the proportion of simulated statistics greater than or equal to the observed statistic is sufficiently small (less than or equal to 0.05), then this is evidence against Emily's model. Conceptually, you may think of this as the case where less than 5% of simulated values are as far or farther away from what we had expected. If this is not the case, we don’t have any reason to doubt Emily’s model. \n",
    "\n",
    "This should help you make your own conclusions about Emily Rosa's experiment. \n",
    "\n",
    "Therapeutic touch fell out of use after this experiment, which was eventually accepted into one of the premier medical journals. TT practitioners hit back and accused Emily and her family of tampering with the results, while some claimed that Emily's bad spiritual mood towards therapeutic touch made it difficult to read her HEF. Whatever it may be, Emily's experiment is a classic example about how anyone, with the right resources, can test anything they want!"
   ]
  },
  {
   "cell_type": "markdown",
   "metadata": {},
   "source": [
    "**Now, take some time to think to yourself and discuss with your peers:**\n",
    "\n",
    "1. Is the data more consistent with Emily' model (practioners were randomly guessing)?\n",
    "2. What does this mean in terms of Emily's experiment? Do the TT practitioners' answers follow an even chance model or is there something else at play? "
   ]
  },
  {
   "cell_type": "markdown",
   "metadata": {},
   "source": [
    "## 2. Submission\n",
    "\n",
    "Congratulations, you're done with Lab 6!  Be sure to \n",
    "- **Run all the tests** (the next cell has a shortcut for that). \n",
    "- **Save and Checkpoint** from the `File` menu.\n",
    "- **Run the cell at the bottom to download a .zip file and submit to Gradescope.**.\n",
    "- If you're in lab, ask one of the staff members to check you off."
   ]
  },
  {
   "cell_type": "markdown",
   "metadata": {
    "deletable": false,
    "editable": false
   },
   "source": [
    "---\n",
    "\n",
    "To double-check your work, the cell below will rerun all of the autograder tests."
   ]
  },
  {
   "cell_type": "code",
   "execution_count": 83,
   "metadata": {
    "deletable": false,
    "editable": false
   },
   "outputs": [
    {
     "data": {
      "text/html": [
       "<p><strong><pre style='display: inline;'>q1_2</pre></strong> passed!</p>\n",
       "\n",
       "<p><strong><pre style='display: inline;'>q1_3</pre></strong> passed!</p>\n",
       "\n",
       "<p><strong><pre style='display: inline;'>q1_5</pre></strong> passed!</p>\n",
       "\n",
       "<p><strong><pre style='display: inline;'>q1_6</pre></strong> passed!</p>\n",
       "\n",
       "<p><strong><pre style='display: inline;'>q1_7</pre></strong> passed!</p>\n",
       "\n",
       "<p><strong><pre style='display: inline;'>q1_8</pre></strong> passed!</p>\n",
       "\n",
       "<p><strong><pre style='display: inline;'>q1_9</pre></strong> passed!</p>\n",
       "\n"
      ],
      "text/plain": [
       "q1_2 results: All test cases passed!\n",
       "\n",
       "q1_3 results: All test cases passed!\n",
       "\n",
       "q1_5 results: All test cases passed!\n",
       "\n",
       "q1_6 results: All test cases passed!\n",
       "\n",
       "q1_7 results: All test cases passed!\n",
       "\n",
       "q1_8 results: All test cases passed!\n",
       "\n",
       "q1_9 results: All test cases passed!\n"
      ]
     },
     "execution_count": 83,
     "metadata": {},
     "output_type": "execute_result"
    }
   ],
   "source": [
    "grader.check_all()"
   ]
  },
  {
   "cell_type": "markdown",
   "metadata": {
    "deletable": false,
    "editable": false
   },
   "source": [
    "## Submission\n",
    "\n",
    "Make sure you have run all cells in your notebook in order before running the cell below, so that all images/graphs appear in the output. The cell below will generate a zip file for you to submit. **Please save before exporting!**"
   ]
  },
  {
   "cell_type": "code",
   "execution_count": null,
   "metadata": {
    "deletable": false,
    "editable": false
   },
   "outputs": [],
   "source": [
    "# Save your notebook first, then run this cell to export your submission.\n",
    "grader.export(pdf=False)"
   ]
  },
  {
   "cell_type": "markdown",
   "metadata": {},
   "source": [
    " "
   ]
  }
 ],
 "metadata": {
  "kernelspec": {
   "display_name": "Python 3 (ipykernel)",
   "language": "python",
   "name": "python3"
  },
  "language_info": {
   "codemirror_mode": {
    "name": "ipython",
    "version": 3
   },
   "file_extension": ".py",
   "mimetype": "text/x-python",
   "name": "python",
   "nbconvert_exporter": "python",
   "pygments_lexer": "ipython3",
   "version": "3.8.10"
  }
 },
 "nbformat": 4,
 "nbformat_minor": 5
}
